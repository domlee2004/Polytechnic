{
 "cells": [
  {
   "cell_type": "markdown",
   "metadata": {},
   "source": [
    "<table class=\"table table-bordered\">\n",
    "    <tr>\n",
    "        <th style=\"text-align:center; width:25%\"><img src='https://www.np.edu.sg/PublishingImages/Pages/default/odp/ICT.jpg' style=\"width: 250px; height: 125px; \"></th>\n",
    "        <th style=\"text-align:center;\"><h1>Deep Learning</h1><h2>Assignment 1 - Food Classification Model (Individual)</h2><h3>AY2022/23 Semester</h3></th>\n",
    "    </tr>\n",
    "</table>"
   ]
  },
  {
   "cell_type": "code",
   "execution_count": 1,
   "metadata": {},
   "outputs": [],
   "source": [
    "# Import the Required Packages\n",
    "import tensorflow as tf\n",
    "from tensorflow import keras\n",
    "from keras import Sequential\n",
    "from keras import regularizers\n",
    "from keras import layers\n",
    "import numpy as np\n",
    "import matplotlib.pyplot as plt\n",
    "import os\n",
    "from tensorflow.keras.preprocessing.image import ImageDataGenerator\n",
    "from tensorflow.keras import optimizers\n",
    "from keras.models import load_model\n",
    "%matplotlib inline"
   ]
  },
  {
   "cell_type": "markdown",
   "metadata": {},
   "source": [
    "## Step 1: Data Loading"
   ]
  },
  {
   "cell_type": "code",
   "execution_count": 2,
   "metadata": {},
   "outputs": [],
   "source": [
    "# Setting variables for each directory train, test, validation\n",
    "base_dir = '/Users/dominiclee/Library/CloudStorage/OneDrive-NgeeAnnPolytechnic/Polytechnic/Year 2 Semester 1/DL/Asg 1'\n",
    "\n",
    "train_dir = os.path.join(base_dir, 'train')\n",
    "validation_dir = os.path.join(base_dir, 'validation')\n",
    "test_dir = os.path.join(base_dir, 'test')"
   ]
  },
  {
   "cell_type": "code",
   "execution_count": 3,
   "metadata": {},
   "outputs": [],
   "source": [
    "# All images will be rescaled by 1./255\n",
    "train_datagen = ImageDataGenerator(\n",
    "    rescale=1./255,\n",
    "    rotation_range=20,\n",
    "    width_shift_range=0.1,\n",
    "    height_shift_range=0.1,\n",
    "    shear_range=0.1,\n",
    "    zoom_range=0.1,\n",
    "    horizontal_flip=True,)\n",
    "\n",
    "test_datagen = ImageDataGenerator(rescale=1./255)"
   ]
  },
  {
   "cell_type": "code",
   "execution_count": 4,
   "metadata": {},
   "outputs": [
    {
     "name": "stdout",
     "output_type": "stream",
     "text": [
      "Found 7500 images belonging to 10 classes.\n",
      "Found 2000 images belonging to 10 classes.\n"
     ]
    }
   ],
   "source": [
    "img_size = 100\n",
    "\n",
    "train_generator = train_datagen.flow_from_directory(\n",
    "        # This is the target directory\n",
    "        train_dir,\n",
    "        # All images will be resized to 100 by 100\n",
    "        batch_size=32,\n",
    "        target_size=(img_size, img_size),\n",
    "        class_mode='categorical')\n",
    "\n",
    "validation_generator = test_datagen.flow_from_directory(\n",
    "        validation_dir,\n",
    "        target_size=(img_size, img_size),\n",
    "        batch_size=32,\n",
    "        class_mode='categorical')"
   ]
  },
  {
   "cell_type": "markdown",
   "metadata": {},
   "source": [
    "## Step 2:  Develop the Image Classification Models"
   ]
  },
  {
   "cell_type": "markdown",
   "metadata": {},
   "source": [
    "### Model #1"
   ]
  },
  {
   "cell_type": "code",
   "execution_count": 12,
   "metadata": {},
   "outputs": [
    {
     "name": "stdout",
     "output_type": "stream",
     "text": [
      "Epoch 1/120\n",
      "234/234 [==============================] - 102s 434ms/step - loss: 2.8160 - acc: 0.1347 - val_loss: 2.3342 - val_acc: 0.1940\n",
      "Epoch 2/120\n",
      "234/234 [==============================] - 107s 456ms/step - loss: 2.2928 - acc: 0.1829 - val_loss: 2.1692 - val_acc: 0.2295\n",
      "Epoch 3/120\n",
      "234/234 [==============================] - 121s 518ms/step - loss: 2.1849 - acc: 0.2111 - val_loss: 2.0510 - val_acc: 0.2695\n",
      "Epoch 4/120\n",
      "234/234 [==============================] - 120s 513ms/step - loss: 2.0982 - acc: 0.2563 - val_loss: 1.9600 - val_acc: 0.2995\n",
      "Epoch 5/120\n",
      "234/234 [==============================] - 111s 475ms/step - loss: 2.0105 - acc: 0.2760 - val_loss: 1.9661 - val_acc: 0.2950\n",
      "Epoch 6/120\n",
      "234/234 [==============================] - 112s 475ms/step - loss: 1.9500 - acc: 0.3061 - val_loss: 1.8119 - val_acc: 0.3680\n",
      "Epoch 7/120\n",
      "234/234 [==============================] - 110s 469ms/step - loss: 1.8997 - acc: 0.3319 - val_loss: 1.7960 - val_acc: 0.3545\n",
      "Epoch 8/120\n",
      "234/234 [==============================] - 112s 476ms/step - loss: 1.8581 - acc: 0.3360 - val_loss: 1.6983 - val_acc: 0.3870\n",
      "Epoch 9/120\n",
      "234/234 [==============================] - 117s 501ms/step - loss: 1.8457 - acc: 0.3539 - val_loss: 1.7738 - val_acc: 0.3605\n",
      "Epoch 10/120\n",
      "234/234 [==============================] - 118s 503ms/step - loss: 1.7975 - acc: 0.3599 - val_loss: 1.6493 - val_acc: 0.4105\n",
      "Epoch 11/120\n",
      "234/234 [==============================] - 127s 544ms/step - loss: 1.7659 - acc: 0.3728 - val_loss: 1.8251 - val_acc: 0.3530\n",
      "Epoch 12/120\n",
      "234/234 [==============================] - 131s 560ms/step - loss: 1.7577 - acc: 0.3819 - val_loss: 1.6458 - val_acc: 0.4030\n",
      "Epoch 13/120\n",
      "234/234 [==============================] - 131s 557ms/step - loss: 1.7235 - acc: 0.3957 - val_loss: 1.6305 - val_acc: 0.4080\n",
      "Epoch 14/120\n",
      "234/234 [==============================] - 131s 558ms/step - loss: 1.6970 - acc: 0.4020 - val_loss: 1.6117 - val_acc: 0.4200\n",
      "Epoch 15/120\n",
      "234/234 [==============================] - 134s 573ms/step - loss: 1.6838 - acc: 0.4115 - val_loss: 1.5662 - val_acc: 0.4425\n",
      "Epoch 16/120\n",
      "234/234 [==============================] - 118s 501ms/step - loss: 1.6672 - acc: 0.4145 - val_loss: 1.6318 - val_acc: 0.4165\n",
      "Epoch 17/120\n",
      "234/234 [==============================] - 115s 489ms/step - loss: 1.6396 - acc: 0.4276 - val_loss: 1.5986 - val_acc: 0.4440\n",
      "Epoch 18/120\n",
      "234/234 [==============================] - 117s 498ms/step - loss: 1.6117 - acc: 0.4463 - val_loss: 1.5241 - val_acc: 0.4795\n",
      "Epoch 19/120\n",
      "234/234 [==============================] - 116s 497ms/step - loss: 1.5984 - acc: 0.4487 - val_loss: 1.5887 - val_acc: 0.4660\n",
      "Epoch 20/120\n",
      "234/234 [==============================] - 117s 497ms/step - loss: 1.5834 - acc: 0.4521 - val_loss: 1.4291 - val_acc: 0.5195\n",
      "Epoch 21/120\n",
      "234/234 [==============================] - 124s 531ms/step - loss: 1.5622 - acc: 0.4664 - val_loss: 1.4585 - val_acc: 0.5040\n",
      "Epoch 22/120\n",
      "234/234 [==============================] - 126s 538ms/step - loss: 1.5409 - acc: 0.4833 - val_loss: 1.5501 - val_acc: 0.4760\n",
      "Epoch 23/120\n",
      "234/234 [==============================] - 129s 549ms/step - loss: 1.5118 - acc: 0.4960 - val_loss: 1.7460 - val_acc: 0.4405\n",
      "Epoch 24/120\n",
      "234/234 [==============================] - 126s 539ms/step - loss: 1.5310 - acc: 0.4788 - val_loss: 1.5462 - val_acc: 0.4730\n",
      "Epoch 25/120\n",
      "234/234 [==============================] - 124s 531ms/step - loss: 1.4825 - acc: 0.5113 - val_loss: 1.6005 - val_acc: 0.4685\n",
      "Epoch 26/120\n",
      "234/234 [==============================] - 124s 529ms/step - loss: 1.4588 - acc: 0.5240 - val_loss: 1.5758 - val_acc: 0.4680\n",
      "Epoch 27/120\n",
      "234/234 [==============================] - 125s 533ms/step - loss: 1.4465 - acc: 0.5219 - val_loss: 1.3993 - val_acc: 0.5355\n",
      "Epoch 28/120\n",
      "234/234 [==============================] - 131s 560ms/step - loss: 1.4312 - acc: 0.5345 - val_loss: 1.5331 - val_acc: 0.5070\n",
      "Epoch 29/120\n",
      "234/234 [==============================] - 140s 597ms/step - loss: 1.4070 - acc: 0.5403 - val_loss: 1.4059 - val_acc: 0.5410\n",
      "Epoch 30/120\n",
      "234/234 [==============================] - 124s 529ms/step - loss: 1.3918 - acc: 0.5516 - val_loss: 1.5543 - val_acc: 0.4985\n",
      "Epoch 31/120\n",
      "234/234 [==============================] - 119s 506ms/step - loss: 1.3977 - acc: 0.5463 - val_loss: 1.6394 - val_acc: 0.4590\n",
      "Epoch 32/120\n",
      "234/234 [==============================] - 118s 504ms/step - loss: 1.3764 - acc: 0.5488 - val_loss: 1.4310 - val_acc: 0.5390\n",
      "Epoch 33/120\n",
      "234/234 [==============================] - 122s 519ms/step - loss: 1.3556 - acc: 0.5599 - val_loss: 1.3962 - val_acc: 0.5445\n",
      "Epoch 34/120\n",
      "234/234 [==============================] - 126s 536ms/step - loss: 1.3667 - acc: 0.5575 - val_loss: 1.3616 - val_acc: 0.5585\n",
      "Epoch 35/120\n",
      "234/234 [==============================] - 127s 543ms/step - loss: 1.3173 - acc: 0.5795 - val_loss: 1.6509 - val_acc: 0.4995\n",
      "Epoch 36/120\n",
      "234/234 [==============================] - 134s 572ms/step - loss: 1.3231 - acc: 0.5673 - val_loss: 1.5913 - val_acc: 0.5300\n",
      "Epoch 37/120\n",
      "234/234 [==============================] - 140s 595ms/step - loss: 1.3009 - acc: 0.5816 - val_loss: 1.5206 - val_acc: 0.5255\n",
      "Epoch 38/120\n",
      "234/234 [==============================] - 143s 610ms/step - loss: 1.3221 - acc: 0.5800 - val_loss: 1.4921 - val_acc: 0.5445\n",
      "Epoch 39/120\n",
      "234/234 [==============================] - 149s 637ms/step - loss: 1.2839 - acc: 0.5867 - val_loss: 1.4753 - val_acc: 0.5505\n",
      "Epoch 40/120\n",
      "234/234 [==============================] - 148s 631ms/step - loss: 1.2837 - acc: 0.5912 - val_loss: 1.3524 - val_acc: 0.5740\n",
      "Epoch 41/120\n",
      "234/234 [==============================] - 150s 640ms/step - loss: 1.2691 - acc: 0.5937 - val_loss: 1.3092 - val_acc: 0.5970\n",
      "Epoch 42/120\n",
      "234/234 [==============================] - 154s 656ms/step - loss: 1.2659 - acc: 0.6004 - val_loss: 1.2592 - val_acc: 0.5970\n",
      "Epoch 43/120\n",
      "234/234 [==============================] - 156s 667ms/step - loss: 1.2393 - acc: 0.6037 - val_loss: 1.4852 - val_acc: 0.5405\n",
      "Epoch 44/120\n",
      "234/234 [==============================] - 159s 677ms/step - loss: 1.2446 - acc: 0.6003 - val_loss: 1.2900 - val_acc: 0.5960\n",
      "Epoch 45/120\n",
      "234/234 [==============================] - 164s 700ms/step - loss: 1.2408 - acc: 0.6072 - val_loss: 1.2914 - val_acc: 0.5840\n",
      "Epoch 46/120\n",
      "234/234 [==============================] - 167s 711ms/step - loss: 1.2318 - acc: 0.6143 - val_loss: 1.6442 - val_acc: 0.5210\n",
      "Epoch 47/120\n",
      "234/234 [==============================] - 169s 722ms/step - loss: 1.2013 - acc: 0.6239 - val_loss: 1.4079 - val_acc: 0.5825\n",
      "Epoch 48/120\n",
      "234/234 [==============================] - 173s 737ms/step - loss: 1.2008 - acc: 0.6267 - val_loss: 1.3742 - val_acc: 0.5685\n",
      "Epoch 49/120\n",
      "234/234 [==============================] - 172s 735ms/step - loss: 1.1894 - acc: 0.6249 - val_loss: 1.4750 - val_acc: 0.5770\n",
      "Epoch 50/120\n",
      "234/234 [==============================] - 174s 743ms/step - loss: 1.2013 - acc: 0.6187 - val_loss: 1.4929 - val_acc: 0.5560\n",
      "Epoch 51/120\n",
      "234/234 [==============================] - 172s 733ms/step - loss: 1.1800 - acc: 0.6292 - val_loss: 1.5364 - val_acc: 0.5465\n",
      "Epoch 52/120\n",
      "234/234 [==============================] - 175s 745ms/step - loss: 1.1801 - acc: 0.6345 - val_loss: 1.4399 - val_acc: 0.5600\n",
      "Epoch 53/120\n",
      "234/234 [==============================] - 180s 767ms/step - loss: 1.1804 - acc: 0.6301 - val_loss: 1.2675 - val_acc: 0.6240\n",
      "Epoch 54/120\n",
      "234/234 [==============================] - 180s 766ms/step - loss: 1.1608 - acc: 0.6409 - val_loss: 1.4582 - val_acc: 0.5590\n",
      "Epoch 55/120\n",
      "234/234 [==============================] - 180s 767ms/step - loss: 1.1509 - acc: 0.6504 - val_loss: 1.2806 - val_acc: 0.6160\n",
      "Epoch 56/120\n",
      "234/234 [==============================] - 181s 772ms/step - loss: 1.1489 - acc: 0.6395 - val_loss: 1.4736 - val_acc: 0.5760\n",
      "Epoch 57/120\n",
      "234/234 [==============================] - 178s 760ms/step - loss: 1.1461 - acc: 0.6487 - val_loss: 1.2977 - val_acc: 0.5955\n",
      "Epoch 58/120\n",
      "234/234 [==============================] - 177s 756ms/step - loss: 1.1280 - acc: 0.6543 - val_loss: 1.7330 - val_acc: 0.5420\n",
      "Epoch 59/120\n",
      "234/234 [==============================] - 174s 741ms/step - loss: 1.1275 - acc: 0.6580 - val_loss: 1.6972 - val_acc: 0.5265\n",
      "Epoch 60/120\n",
      "234/234 [==============================] - 177s 754ms/step - loss: 1.1063 - acc: 0.6544 - val_loss: 1.2023 - val_acc: 0.6305\n",
      "Epoch 61/120\n",
      "234/234 [==============================] - 174s 744ms/step - loss: 1.1085 - acc: 0.6583 - val_loss: 1.4260 - val_acc: 0.5950\n",
      "Epoch 62/120\n",
      "234/234 [==============================] - 180s 767ms/step - loss: 1.1156 - acc: 0.6528 - val_loss: 1.2666 - val_acc: 0.6160\n",
      "Epoch 63/120\n",
      "234/234 [==============================] - 180s 767ms/step - loss: 1.0988 - acc: 0.6619 - val_loss: 1.4540 - val_acc: 0.5870\n",
      "Epoch 64/120\n",
      "234/234 [==============================] - 178s 761ms/step - loss: 1.0900 - acc: 0.6652 - val_loss: 1.2706 - val_acc: 0.6240\n",
      "Epoch 65/120\n",
      "234/234 [==============================] - 176s 749ms/step - loss: 1.0917 - acc: 0.6699 - val_loss: 1.2872 - val_acc: 0.6080\n",
      "Epoch 66/120\n",
      "234/234 [==============================] - 176s 750ms/step - loss: 1.0741 - acc: 0.6700 - val_loss: 1.3931 - val_acc: 0.6095\n",
      "Epoch 67/120\n",
      "234/234 [==============================] - 175s 745ms/step - loss: 1.0632 - acc: 0.6801 - val_loss: 1.3345 - val_acc: 0.6000\n",
      "Epoch 68/120\n",
      "234/234 [==============================] - 173s 739ms/step - loss: 1.0522 - acc: 0.6809 - val_loss: 1.2417 - val_acc: 0.6340\n",
      "Epoch 69/120\n",
      "234/234 [==============================] - 174s 744ms/step - loss: 1.0394 - acc: 0.6852 - val_loss: 1.5322 - val_acc: 0.5785\n",
      "Epoch 70/120\n",
      "234/234 [==============================] - 176s 752ms/step - loss: 1.0432 - acc: 0.6807 - val_loss: 1.5117 - val_acc: 0.5655\n",
      "Epoch 71/120\n",
      "234/234 [==============================] - 178s 761ms/step - loss: 1.0517 - acc: 0.6807 - val_loss: 1.2215 - val_acc: 0.6450\n",
      "Epoch 72/120\n",
      "234/234 [==============================] - 180s 768ms/step - loss: 1.0414 - acc: 0.6851 - val_loss: 1.4632 - val_acc: 0.5875\n",
      "Epoch 73/120\n",
      "234/234 [==============================] - 182s 776ms/step - loss: 1.0312 - acc: 0.6935 - val_loss: 1.3009 - val_acc: 0.6185\n",
      "Epoch 74/120\n",
      "234/234 [==============================] - 176s 752ms/step - loss: 1.0172 - acc: 0.6863 - val_loss: 1.3813 - val_acc: 0.6145\n",
      "Epoch 75/120\n",
      "234/234 [==============================] - 175s 744ms/step - loss: 1.0089 - acc: 0.7009 - val_loss: 1.1796 - val_acc: 0.6490\n",
      "Epoch 76/120\n",
      "234/234 [==============================] - 173s 738ms/step - loss: 0.9995 - acc: 0.6933 - val_loss: 1.2214 - val_acc: 0.6515\n",
      "Epoch 77/120\n",
      "234/234 [==============================] - 170s 723ms/step - loss: 1.0135 - acc: 0.6900 - val_loss: 1.4134 - val_acc: 0.6020\n",
      "Epoch 78/120\n",
      "234/234 [==============================] - 170s 725ms/step - loss: 0.9992 - acc: 0.6988 - val_loss: 1.3478 - val_acc: 0.6060\n",
      "Epoch 79/120\n",
      "234/234 [==============================] - 168s 717ms/step - loss: 0.9773 - acc: 0.7097 - val_loss: 1.4102 - val_acc: 0.6225\n",
      "Epoch 80/120\n",
      "234/234 [==============================] - 163s 695ms/step - loss: 0.9817 - acc: 0.7059 - val_loss: 1.3952 - val_acc: 0.6100\n",
      "Epoch 81/120\n",
      "234/234 [==============================] - 166s 706ms/step - loss: 0.9892 - acc: 0.7060 - val_loss: 1.3315 - val_acc: 0.6175\n",
      "Epoch 82/120\n",
      "234/234 [==============================] - 164s 700ms/step - loss: 0.9862 - acc: 0.7005 - val_loss: 1.4611 - val_acc: 0.5975\n",
      "Epoch 83/120\n",
      "234/234 [==============================] - 164s 700ms/step - loss: 0.9646 - acc: 0.7148 - val_loss: 1.4083 - val_acc: 0.6065\n",
      "Epoch 84/120\n",
      "234/234 [==============================] - 168s 715ms/step - loss: 0.9496 - acc: 0.7204 - val_loss: 1.2373 - val_acc: 0.6350\n",
      "Epoch 85/120\n",
      "234/234 [==============================] - 165s 704ms/step - loss: 0.9463 - acc: 0.7193 - val_loss: 1.3351 - val_acc: 0.6295\n",
      "Epoch 86/120\n",
      "234/234 [==============================] - 163s 695ms/step - loss: 0.9464 - acc: 0.7217 - val_loss: 1.2710 - val_acc: 0.6415\n",
      "Epoch 87/120\n",
      "234/234 [==============================] - 168s 716ms/step - loss: 0.9400 - acc: 0.7187 - val_loss: 1.5773 - val_acc: 0.5915\n",
      "Epoch 88/120\n",
      "234/234 [==============================] - 165s 706ms/step - loss: 0.9479 - acc: 0.7229 - val_loss: 1.3548 - val_acc: 0.6190\n",
      "Epoch 89/120\n",
      "234/234 [==============================] - 166s 708ms/step - loss: 0.9437 - acc: 0.7195 - val_loss: 1.5579 - val_acc: 0.6180\n",
      "Epoch 90/120\n",
      "234/234 [==============================] - 166s 709ms/step - loss: 0.9444 - acc: 0.7163 - val_loss: 1.5958 - val_acc: 0.5635\n",
      "Epoch 91/120\n",
      "234/234 [==============================] - 166s 708ms/step - loss: 0.9319 - acc: 0.7233 - val_loss: 1.4706 - val_acc: 0.6065\n",
      "Epoch 92/120\n",
      "234/234 [==============================] - 161s 686ms/step - loss: 0.9271 - acc: 0.7248 - val_loss: 1.3415 - val_acc: 0.6280\n",
      "Epoch 93/120\n",
      "234/234 [==============================] - 165s 703ms/step - loss: 0.9172 - acc: 0.7264 - val_loss: 1.2622 - val_acc: 0.6435\n",
      "Epoch 94/120\n",
      "234/234 [==============================] - 165s 703ms/step - loss: 0.9299 - acc: 0.7252 - val_loss: 1.3380 - val_acc: 0.6240\n",
      "Epoch 95/120\n",
      "234/234 [==============================] - 162s 691ms/step - loss: 0.9008 - acc: 0.7356 - val_loss: 1.5841 - val_acc: 0.5900\n",
      "Epoch 96/120\n",
      "234/234 [==============================] - 163s 696ms/step - loss: 0.8935 - acc: 0.7361 - val_loss: 1.2900 - val_acc: 0.6405\n",
      "Epoch 97/120\n",
      "234/234 [==============================] - 165s 705ms/step - loss: 0.9188 - acc: 0.7296 - val_loss: 1.3383 - val_acc: 0.6430\n",
      "Epoch 98/120\n",
      "234/234 [==============================] - 167s 713ms/step - loss: 0.8978 - acc: 0.7359 - val_loss: 1.3404 - val_acc: 0.6415\n",
      "Epoch 99/120\n",
      "234/234 [==============================] - 166s 707ms/step - loss: 0.9052 - acc: 0.7355 - val_loss: 1.4966 - val_acc: 0.6065\n",
      "Epoch 100/120\n",
      "234/234 [==============================] - 165s 703ms/step - loss: 0.8695 - acc: 0.7441 - val_loss: 1.8718 - val_acc: 0.5645\n",
      "Epoch 101/120\n",
      "234/234 [==============================] - 163s 693ms/step - loss: 0.8897 - acc: 0.7451 - val_loss: 1.5396 - val_acc: 0.5735\n",
      "Epoch 102/120\n",
      "234/234 [==============================] - 163s 695ms/step - loss: 0.8748 - acc: 0.7436 - val_loss: 1.8994 - val_acc: 0.5565\n",
      "Epoch 103/120\n",
      "234/234 [==============================] - 165s 704ms/step - loss: 0.8621 - acc: 0.7467 - val_loss: 1.3721 - val_acc: 0.6345\n",
      "Epoch 104/120\n",
      "234/234 [==============================] - 164s 700ms/step - loss: 0.8824 - acc: 0.7465 - val_loss: 1.4518 - val_acc: 0.6090\n",
      "Epoch 105/120\n",
      "234/234 [==============================] - 164s 698ms/step - loss: 0.8453 - acc: 0.7615 - val_loss: 1.2090 - val_acc: 0.6655\n",
      "Epoch 106/120\n",
      "234/234 [==============================] - 165s 703ms/step - loss: 0.8600 - acc: 0.7521 - val_loss: 1.3837 - val_acc: 0.6325\n",
      "Epoch 107/120\n",
      "234/234 [==============================] - 165s 705ms/step - loss: 0.8489 - acc: 0.7568 - val_loss: 1.5090 - val_acc: 0.6140\n",
      "Epoch 108/120\n",
      "234/234 [==============================] - 165s 704ms/step - loss: 0.8634 - acc: 0.7443 - val_loss: 1.4858 - val_acc: 0.6120\n",
      "Epoch 109/120\n",
      "234/234 [==============================] - 168s 718ms/step - loss: 0.8560 - acc: 0.7531 - val_loss: 1.4246 - val_acc: 0.6290\n",
      "Epoch 110/120\n",
      "234/234 [==============================] - 166s 709ms/step - loss: 0.8441 - acc: 0.7549 - val_loss: 1.3435 - val_acc: 0.6385\n",
      "Epoch 111/120\n",
      "234/234 [==============================] - 167s 710ms/step - loss: 0.8224 - acc: 0.7629 - val_loss: 1.5196 - val_acc: 0.6235\n",
      "Epoch 112/120\n",
      "234/234 [==============================] - 165s 702ms/step - loss: 0.8296 - acc: 0.7635 - val_loss: 1.3552 - val_acc: 0.6310\n",
      "Epoch 113/120\n",
      "234/234 [==============================] - 167s 712ms/step - loss: 0.8344 - acc: 0.7620 - val_loss: 1.3203 - val_acc: 0.6445\n",
      "Epoch 114/120\n",
      "234/234 [==============================] - 166s 707ms/step - loss: 0.8147 - acc: 0.7647 - val_loss: 1.3279 - val_acc: 0.6545\n",
      "Epoch 115/120\n",
      "234/234 [==============================] - 165s 702ms/step - loss: 0.8187 - acc: 0.7668 - val_loss: 1.7168 - val_acc: 0.5940\n",
      "Epoch 116/120\n",
      "234/234 [==============================] - 167s 710ms/step - loss: 0.8401 - acc: 0.7589 - val_loss: 1.3362 - val_acc: 0.6440\n",
      "Epoch 117/120\n",
      "234/234 [==============================] - 166s 710ms/step - loss: 0.8006 - acc: 0.7780 - val_loss: 1.3474 - val_acc: 0.6380\n",
      "Epoch 118/120\n",
      "234/234 [==============================] - 165s 705ms/step - loss: 0.8007 - acc: 0.7753 - val_loss: 1.5343 - val_acc: 0.6005\n",
      "Epoch 119/120\n",
      "234/234 [==============================] - 168s 717ms/step - loss: 0.8246 - acc: 0.7595 - val_loss: 1.4408 - val_acc: 0.6210\n",
      "Epoch 120/120\n",
      "235/234 [==============================] - ETA: 0s - loss: 0.7804 - acc: 0.7780"
     ]
    }
   ],
   "source": [
    "model = Sequential()\n",
    "model.add(layers.Conv2D(128, (3, 3), activation=\"relu\", input_shape=(img_size,img_size,3)))\n",
    "model.add(layers.MaxPool2D((2, 2)))\n",
    "model.add(layers.Conv2D(128, (3, 3), activation=\"relu\"))\n",
    "model.add(layers.MaxPool2D((2, 2)))\n",
    "model.add(layers.Conv2D(128, (3, 3), activation=\"relu\"))\n",
    "model.add(layers.MaxPool2D((2, 2)))\n",
    "model.add(layers.Conv2D(128, (3, 3), activation=\"relu\"))\n",
    "model.add(layers.MaxPool2D((2, 2)))\n",
    "model.add(layers.Flatten())\n",
    "model.add(layers.Dense(64, activation=\"relu\", kernel_regularizer=regularizers.L2(0.01)))\n",
    "model.add(layers.Dropout(0.3))\n",
    "model.add(layers.Dense(64, activation=\"relu\", kernel_regularizer=regularizers.L2(0.01)))\n",
    "model.add(layers.Dropout(0.3))\n",
    "model.add(layers.Dense(10, activation=\"softmax\"))\n",
    "model.compile(loss='categorical_crossentropy',\n",
    "              optimizer=tf.keras.optimizers.Adam(learning_rate=0.0005),\n",
    "              metrics=['acc'])\n",
    "history = model.fit(\n",
    "      train_generator,\n",
    "      steps_per_epoch=7500/32, #train_sample_size/data_batch_size\n",
    "      epochs=120,\n",
    "      validation_data=validation_generator,\n",
    "      validation_steps=2000/32)\n",
    "\n",
    "acc = history.history['acc']\n",
    "val_acc = history.history['val_acc']\n",
    "loss = history.history['loss']\n",
    "val_loss = history.history['val_loss']\n",
    "\n",
    "epochs = range(len(acc))\n",
    "\n",
    "plt.plot(epochs, acc, 'bo', label='Training acc')\n",
    "plt.plot(epochs, val_acc, 'b', label='Validation acc')\n",
    "plt.title('Training and validation accuracy')\n",
    "plt.legend()\n",
    "\n",
    "plt.figure()\n",
    "\n",
    "plt.plot(epochs, loss, 'bo', label='Training loss')\n",
    "plt.plot(epochs, val_loss, 'b', label='Validation loss')\n",
    "plt.title('Training and validation loss')\n",
    "plt.legend()\n",
    "\n",
    "plt.show()"
   ]
  },
  {
   "cell_type": "code",
   "execution_count": 5,
   "metadata": {},
   "outputs": [
    {
     "ename": "NameError",
     "evalue": "name 'model' is not defined",
     "output_type": "error",
     "traceback": [
      "\u001b[0;31m---------------------------------------------------------------------------\u001b[0m",
      "\u001b[0;31mNameError\u001b[0m                                 Traceback (most recent call last)",
      "\u001b[1;32m/Users/dominiclee/Library/CloudStorage/OneDrive-NgeeAnnPolytechnic/Polytechnic/Year 2 Semester 1/DL/Asg 1/Assignment_1_Dominic.ipynb Cell 10'\u001b[0m in \u001b[0;36m<cell line: 2>\u001b[0;34m()\u001b[0m\n\u001b[1;32m      <a href='vscode-notebook-cell:/Users/dominiclee/Library/CloudStorage/OneDrive-NgeeAnnPolytechnic/Polytechnic/Year%202%20Semester%201/DL/Asg%201/Assignment_1_Dominic.ipynb#ch0000009?line=0'>1</a>\u001b[0m \u001b[39m# Save the Model\u001b[39;00m\n\u001b[0;32m----> <a href='vscode-notebook-cell:/Users/dominiclee/Library/CloudStorage/OneDrive-NgeeAnnPolytechnic/Polytechnic/Year%202%20Semester%201/DL/Asg%201/Assignment_1_Dominic.ipynb#ch0000009?line=1'>2</a>\u001b[0m model\u001b[39m.\u001b[39msave(\u001b[39m'\u001b[39m\u001b[39mfood_model_1.h5\u001b[39m\u001b[39m'\u001b[39m)\n",
      "\u001b[0;31mNameError\u001b[0m: name 'model' is not defined"
     ]
    }
   ],
   "source": [
    "# Save the Model\n",
    "model.save('food_model_1.h5')"
   ]
  },
  {
   "cell_type": "markdown",
   "metadata": {},
   "source": [
    "### Model #2"
   ]
  },
  {
   "cell_type": "code",
   "execution_count": null,
   "metadata": {},
   "outputs": [
    {
     "name": "stdout",
     "output_type": "stream",
     "text": [
      "Model: \"sequential_5\"\n",
      "_________________________________________________________________\n",
      " Layer (type)                Output Shape              Param #   \n",
      "=================================================================\n",
      " vgg16 (Functional)          (None, 3, 3, 512)         14714688  \n",
      "                                                                 \n",
      " flatten_5 (Flatten)         (None, 4608)              0         \n",
      "                                                                 \n",
      " dense_20 (Dense)            (None, 64)                294976    \n",
      "                                                                 \n",
      " dropout_15 (Dropout)        (None, 64)                0         \n",
      "                                                                 \n",
      " dense_21 (Dense)            (None, 128)               8320      \n",
      "                                                                 \n",
      " dropout_16 (Dropout)        (None, 128)               0         \n",
      "                                                                 \n",
      " dense_22 (Dense)            (None, 256)               33024     \n",
      "                                                                 \n",
      " dropout_17 (Dropout)        (None, 256)               0         \n",
      "                                                                 \n",
      " dense_23 (Dense)            (None, 10)                2570      \n",
      "                                                                 \n",
      "=================================================================\n",
      "Total params: 15,053,578\n",
      "Trainable params: 13,318,090\n",
      "Non-trainable params: 1,735,488\n",
      "_________________________________________________________________\n",
      "Epoch 1/15\n",
      "234/234 [==============================] - 376s 2s/step - loss: 0.3809 - acc: 0.1016 - val_loss: 0.3416 - val_acc: 0.1000\n",
      "Epoch 2/15\n",
      " 33/234 [===>..........................] - ETA: 4:35 - loss: 0.3511 - acc: 0.0975"
     ]
    },
    {
     "ename": "KeyboardInterrupt",
     "evalue": "",
     "output_type": "error",
     "traceback": [
      "\u001b[0;31m---------------------------------------------------------------------------\u001b[0m",
      "\u001b[0;31mKeyboardInterrupt\u001b[0m                         Traceback (most recent call last)",
      "\u001b[1;32m/Users/dominiclee/Library/CloudStorage/OneDrive-NgeeAnnPolytechnic/Polytechnic/Year 2 Semester 1/DL/Asg 1/Assignment_1_Dominic.ipynb Cell 12'\u001b[0m in \u001b[0;36m<cell line: 33>\u001b[0;34m()\u001b[0m\n\u001b[1;32m     <a href='vscode-notebook-cell:/Users/dominiclee/Library/CloudStorage/OneDrive-NgeeAnnPolytechnic/Polytechnic/Year%202%20Semester%201/DL/Asg%201/Assignment_1_Dominic.ipynb#ch0000011?line=26'>27</a>\u001b[0m model2\u001b[39m.\u001b[39msummary()\n\u001b[1;32m     <a href='vscode-notebook-cell:/Users/dominiclee/Library/CloudStorage/OneDrive-NgeeAnnPolytechnic/Polytechnic/Year%202%20Semester%201/DL/Asg%201/Assignment_1_Dominic.ipynb#ch0000011?line=28'>29</a>\u001b[0m model2\u001b[39m.\u001b[39mcompile(optimizer\u001b[39m=\u001b[39moptimizers\u001b[39m.\u001b[39mAdam(\u001b[39m0.0003\u001b[39m),\n\u001b[1;32m     <a href='vscode-notebook-cell:/Users/dominiclee/Library/CloudStorage/OneDrive-NgeeAnnPolytechnic/Polytechnic/Year%202%20Semester%201/DL/Asg%201/Assignment_1_Dominic.ipynb#ch0000011?line=29'>30</a>\u001b[0m               loss\u001b[39m=\u001b[39m\u001b[39m'\u001b[39m\u001b[39mbinary_crossentropy\u001b[39m\u001b[39m'\u001b[39m,\n\u001b[1;32m     <a href='vscode-notebook-cell:/Users/dominiclee/Library/CloudStorage/OneDrive-NgeeAnnPolytechnic/Polytechnic/Year%202%20Semester%201/DL/Asg%201/Assignment_1_Dominic.ipynb#ch0000011?line=30'>31</a>\u001b[0m               metrics\u001b[39m=\u001b[39m[\u001b[39m'\u001b[39m\u001b[39macc\u001b[39m\u001b[39m'\u001b[39m])\n\u001b[0;32m---> <a href='vscode-notebook-cell:/Users/dominiclee/Library/CloudStorage/OneDrive-NgeeAnnPolytechnic/Polytechnic/Year%202%20Semester%201/DL/Asg%201/Assignment_1_Dominic.ipynb#ch0000011?line=32'>33</a>\u001b[0m history \u001b[39m=\u001b[39m model2\u001b[39m.\u001b[39;49mfit(train_generator,\n\u001b[1;32m     <a href='vscode-notebook-cell:/Users/dominiclee/Library/CloudStorage/OneDrive-NgeeAnnPolytechnic/Polytechnic/Year%202%20Semester%201/DL/Asg%201/Assignment_1_Dominic.ipynb#ch0000011?line=33'>34</a>\u001b[0m                     epochs\u001b[39m=\u001b[39;49m\u001b[39m15\u001b[39;49m,\n\u001b[1;32m     <a href='vscode-notebook-cell:/Users/dominiclee/Library/CloudStorage/OneDrive-NgeeAnnPolytechnic/Polytechnic/Year%202%20Semester%201/DL/Asg%201/Assignment_1_Dominic.ipynb#ch0000011?line=34'>35</a>\u001b[0m                     batch_size\u001b[39m=\u001b[39;49m\u001b[39m32\u001b[39;49m,\n\u001b[1;32m     <a href='vscode-notebook-cell:/Users/dominiclee/Library/CloudStorage/OneDrive-NgeeAnnPolytechnic/Polytechnic/Year%202%20Semester%201/DL/Asg%201/Assignment_1_Dominic.ipynb#ch0000011?line=35'>36</a>\u001b[0m                     steps_per_epoch \u001b[39m=\u001b[39;49m \u001b[39m7500\u001b[39;49m\u001b[39m/\u001b[39;49m\u001b[39m32\u001b[39;49m,\n\u001b[1;32m     <a href='vscode-notebook-cell:/Users/dominiclee/Library/CloudStorage/OneDrive-NgeeAnnPolytechnic/Polytechnic/Year%202%20Semester%201/DL/Asg%201/Assignment_1_Dominic.ipynb#ch0000011?line=36'>37</a>\u001b[0m                     validation_data\u001b[39m=\u001b[39;49mvalidation_generator,\n\u001b[1;32m     <a href='vscode-notebook-cell:/Users/dominiclee/Library/CloudStorage/OneDrive-NgeeAnnPolytechnic/Polytechnic/Year%202%20Semester%201/DL/Asg%201/Assignment_1_Dominic.ipynb#ch0000011?line=37'>38</a>\u001b[0m                     validation_steps\u001b[39m=\u001b[39;49m\u001b[39m2000\u001b[39;49m\u001b[39m/\u001b[39;49m\u001b[39m32\u001b[39;49m)\n",
      "File \u001b[0;32m~/miniforge3/envs/use_kernel/lib/python3.10/site-packages/keras/utils/traceback_utils.py:64\u001b[0m, in \u001b[0;36mfilter_traceback.<locals>.error_handler\u001b[0;34m(*args, **kwargs)\u001b[0m\n\u001b[1;32m     62\u001b[0m filtered_tb \u001b[39m=\u001b[39m \u001b[39mNone\u001b[39;00m\n\u001b[1;32m     63\u001b[0m \u001b[39mtry\u001b[39;00m:\n\u001b[0;32m---> 64\u001b[0m   \u001b[39mreturn\u001b[39;00m fn(\u001b[39m*\u001b[39;49margs, \u001b[39m*\u001b[39;49m\u001b[39m*\u001b[39;49mkwargs)\n\u001b[1;32m     65\u001b[0m \u001b[39mexcept\u001b[39;00m \u001b[39mException\u001b[39;00m \u001b[39mas\u001b[39;00m e:  \u001b[39m# pylint: disable=broad-except\u001b[39;00m\n\u001b[1;32m     66\u001b[0m   filtered_tb \u001b[39m=\u001b[39m _process_traceback_frames(e\u001b[39m.\u001b[39m__traceback__)\n",
      "File \u001b[0;32m~/miniforge3/envs/use_kernel/lib/python3.10/site-packages/keras/engine/training.py:1216\u001b[0m, in \u001b[0;36mModel.fit\u001b[0;34m(self, x, y, batch_size, epochs, verbose, callbacks, validation_split, validation_data, shuffle, class_weight, sample_weight, initial_epoch, steps_per_epoch, validation_steps, validation_batch_size, validation_freq, max_queue_size, workers, use_multiprocessing)\u001b[0m\n\u001b[1;32m   1209\u001b[0m \u001b[39mwith\u001b[39;00m tf\u001b[39m.\u001b[39mprofiler\u001b[39m.\u001b[39mexperimental\u001b[39m.\u001b[39mTrace(\n\u001b[1;32m   1210\u001b[0m     \u001b[39m'\u001b[39m\u001b[39mtrain\u001b[39m\u001b[39m'\u001b[39m,\n\u001b[1;32m   1211\u001b[0m     epoch_num\u001b[39m=\u001b[39mepoch,\n\u001b[1;32m   1212\u001b[0m     step_num\u001b[39m=\u001b[39mstep,\n\u001b[1;32m   1213\u001b[0m     batch_size\u001b[39m=\u001b[39mbatch_size,\n\u001b[1;32m   1214\u001b[0m     _r\u001b[39m=\u001b[39m\u001b[39m1\u001b[39m):\n\u001b[1;32m   1215\u001b[0m   callbacks\u001b[39m.\u001b[39mon_train_batch_begin(step)\n\u001b[0;32m-> 1216\u001b[0m   tmp_logs \u001b[39m=\u001b[39m \u001b[39mself\u001b[39;49m\u001b[39m.\u001b[39;49mtrain_function(iterator)\n\u001b[1;32m   1217\u001b[0m   \u001b[39mif\u001b[39;00m data_handler\u001b[39m.\u001b[39mshould_sync:\n\u001b[1;32m   1218\u001b[0m     context\u001b[39m.\u001b[39masync_wait()\n",
      "File \u001b[0;32m~/miniforge3/envs/use_kernel/lib/python3.10/site-packages/tensorflow/python/util/traceback_utils.py:150\u001b[0m, in \u001b[0;36mfilter_traceback.<locals>.error_handler\u001b[0;34m(*args, **kwargs)\u001b[0m\n\u001b[1;32m    148\u001b[0m filtered_tb \u001b[39m=\u001b[39m \u001b[39mNone\u001b[39;00m\n\u001b[1;32m    149\u001b[0m \u001b[39mtry\u001b[39;00m:\n\u001b[0;32m--> 150\u001b[0m   \u001b[39mreturn\u001b[39;00m fn(\u001b[39m*\u001b[39;49margs, \u001b[39m*\u001b[39;49m\u001b[39m*\u001b[39;49mkwargs)\n\u001b[1;32m    151\u001b[0m \u001b[39mexcept\u001b[39;00m \u001b[39mException\u001b[39;00m \u001b[39mas\u001b[39;00m e:\n\u001b[1;32m    152\u001b[0m   filtered_tb \u001b[39m=\u001b[39m _process_traceback_frames(e\u001b[39m.\u001b[39m__traceback__)\n",
      "File \u001b[0;32m~/miniforge3/envs/use_kernel/lib/python3.10/site-packages/tensorflow/python/eager/def_function.py:910\u001b[0m, in \u001b[0;36mFunction.__call__\u001b[0;34m(self, *args, **kwds)\u001b[0m\n\u001b[1;32m    907\u001b[0m compiler \u001b[39m=\u001b[39m \u001b[39m\"\u001b[39m\u001b[39mxla\u001b[39m\u001b[39m\"\u001b[39m \u001b[39mif\u001b[39;00m \u001b[39mself\u001b[39m\u001b[39m.\u001b[39m_jit_compile \u001b[39melse\u001b[39;00m \u001b[39m\"\u001b[39m\u001b[39mnonXla\u001b[39m\u001b[39m\"\u001b[39m\n\u001b[1;32m    909\u001b[0m \u001b[39mwith\u001b[39;00m OptionalXlaContext(\u001b[39mself\u001b[39m\u001b[39m.\u001b[39m_jit_compile):\n\u001b[0;32m--> 910\u001b[0m   result \u001b[39m=\u001b[39m \u001b[39mself\u001b[39;49m\u001b[39m.\u001b[39;49m_call(\u001b[39m*\u001b[39;49margs, \u001b[39m*\u001b[39;49m\u001b[39m*\u001b[39;49mkwds)\n\u001b[1;32m    912\u001b[0m new_tracing_count \u001b[39m=\u001b[39m \u001b[39mself\u001b[39m\u001b[39m.\u001b[39mexperimental_get_tracing_count()\n\u001b[1;32m    913\u001b[0m without_tracing \u001b[39m=\u001b[39m (tracing_count \u001b[39m==\u001b[39m new_tracing_count)\n",
      "File \u001b[0;32m~/miniforge3/envs/use_kernel/lib/python3.10/site-packages/tensorflow/python/eager/def_function.py:942\u001b[0m, in \u001b[0;36mFunction._call\u001b[0;34m(self, *args, **kwds)\u001b[0m\n\u001b[1;32m    939\u001b[0m   \u001b[39mself\u001b[39m\u001b[39m.\u001b[39m_lock\u001b[39m.\u001b[39mrelease()\n\u001b[1;32m    940\u001b[0m   \u001b[39m# In this case we have created variables on the first call, so we run the\u001b[39;00m\n\u001b[1;32m    941\u001b[0m   \u001b[39m# defunned version which is guaranteed to never create variables.\u001b[39;00m\n\u001b[0;32m--> 942\u001b[0m   \u001b[39mreturn\u001b[39;00m \u001b[39mself\u001b[39;49m\u001b[39m.\u001b[39;49m_stateless_fn(\u001b[39m*\u001b[39;49margs, \u001b[39m*\u001b[39;49m\u001b[39m*\u001b[39;49mkwds)  \u001b[39m# pylint: disable=not-callable\u001b[39;00m\n\u001b[1;32m    943\u001b[0m \u001b[39melif\u001b[39;00m \u001b[39mself\u001b[39m\u001b[39m.\u001b[39m_stateful_fn \u001b[39mis\u001b[39;00m \u001b[39mnot\u001b[39;00m \u001b[39mNone\u001b[39;00m:\n\u001b[1;32m    944\u001b[0m   \u001b[39m# Release the lock early so that multiple threads can perform the call\u001b[39;00m\n\u001b[1;32m    945\u001b[0m   \u001b[39m# in parallel.\u001b[39;00m\n\u001b[1;32m    946\u001b[0m   \u001b[39mself\u001b[39m\u001b[39m.\u001b[39m_lock\u001b[39m.\u001b[39mrelease()\n",
      "File \u001b[0;32m~/miniforge3/envs/use_kernel/lib/python3.10/site-packages/tensorflow/python/eager/function.py:3130\u001b[0m, in \u001b[0;36mFunction.__call__\u001b[0;34m(self, *args, **kwargs)\u001b[0m\n\u001b[1;32m   3127\u001b[0m \u001b[39mwith\u001b[39;00m \u001b[39mself\u001b[39m\u001b[39m.\u001b[39m_lock:\n\u001b[1;32m   3128\u001b[0m   (graph_function,\n\u001b[1;32m   3129\u001b[0m    filtered_flat_args) \u001b[39m=\u001b[39m \u001b[39mself\u001b[39m\u001b[39m.\u001b[39m_maybe_define_function(args, kwargs)\n\u001b[0;32m-> 3130\u001b[0m \u001b[39mreturn\u001b[39;00m graph_function\u001b[39m.\u001b[39;49m_call_flat(\n\u001b[1;32m   3131\u001b[0m     filtered_flat_args, captured_inputs\u001b[39m=\u001b[39;49mgraph_function\u001b[39m.\u001b[39;49mcaptured_inputs)\n",
      "File \u001b[0;32m~/miniforge3/envs/use_kernel/lib/python3.10/site-packages/tensorflow/python/eager/function.py:1959\u001b[0m, in \u001b[0;36mConcreteFunction._call_flat\u001b[0;34m(self, args, captured_inputs, cancellation_manager)\u001b[0m\n\u001b[1;32m   1955\u001b[0m possible_gradient_type \u001b[39m=\u001b[39m gradients_util\u001b[39m.\u001b[39mPossibleTapeGradientTypes(args)\n\u001b[1;32m   1956\u001b[0m \u001b[39mif\u001b[39;00m (possible_gradient_type \u001b[39m==\u001b[39m gradients_util\u001b[39m.\u001b[39mPOSSIBLE_GRADIENT_TYPES_NONE\n\u001b[1;32m   1957\u001b[0m     \u001b[39mand\u001b[39;00m executing_eagerly):\n\u001b[1;32m   1958\u001b[0m   \u001b[39m# No tape is watching; skip to running the function.\u001b[39;00m\n\u001b[0;32m-> 1959\u001b[0m   \u001b[39mreturn\u001b[39;00m \u001b[39mself\u001b[39m\u001b[39m.\u001b[39m_build_call_outputs(\u001b[39mself\u001b[39;49m\u001b[39m.\u001b[39;49m_inference_function\u001b[39m.\u001b[39;49mcall(\n\u001b[1;32m   1960\u001b[0m       ctx, args, cancellation_manager\u001b[39m=\u001b[39;49mcancellation_manager))\n\u001b[1;32m   1961\u001b[0m forward_backward \u001b[39m=\u001b[39m \u001b[39mself\u001b[39m\u001b[39m.\u001b[39m_select_forward_and_backward_functions(\n\u001b[1;32m   1962\u001b[0m     args,\n\u001b[1;32m   1963\u001b[0m     possible_gradient_type,\n\u001b[1;32m   1964\u001b[0m     executing_eagerly)\n\u001b[1;32m   1965\u001b[0m forward_function, args_with_tangents \u001b[39m=\u001b[39m forward_backward\u001b[39m.\u001b[39mforward()\n",
      "File \u001b[0;32m~/miniforge3/envs/use_kernel/lib/python3.10/site-packages/tensorflow/python/eager/function.py:598\u001b[0m, in \u001b[0;36m_EagerDefinedFunction.call\u001b[0;34m(self, ctx, args, cancellation_manager)\u001b[0m\n\u001b[1;32m    596\u001b[0m \u001b[39mwith\u001b[39;00m _InterpolateFunctionError(\u001b[39mself\u001b[39m):\n\u001b[1;32m    597\u001b[0m   \u001b[39mif\u001b[39;00m cancellation_manager \u001b[39mis\u001b[39;00m \u001b[39mNone\u001b[39;00m:\n\u001b[0;32m--> 598\u001b[0m     outputs \u001b[39m=\u001b[39m execute\u001b[39m.\u001b[39;49mexecute(\n\u001b[1;32m    599\u001b[0m         \u001b[39mstr\u001b[39;49m(\u001b[39mself\u001b[39;49m\u001b[39m.\u001b[39;49msignature\u001b[39m.\u001b[39;49mname),\n\u001b[1;32m    600\u001b[0m         num_outputs\u001b[39m=\u001b[39;49m\u001b[39mself\u001b[39;49m\u001b[39m.\u001b[39;49m_num_outputs,\n\u001b[1;32m    601\u001b[0m         inputs\u001b[39m=\u001b[39;49margs,\n\u001b[1;32m    602\u001b[0m         attrs\u001b[39m=\u001b[39;49mattrs,\n\u001b[1;32m    603\u001b[0m         ctx\u001b[39m=\u001b[39;49mctx)\n\u001b[1;32m    604\u001b[0m   \u001b[39melse\u001b[39;00m:\n\u001b[1;32m    605\u001b[0m     outputs \u001b[39m=\u001b[39m execute\u001b[39m.\u001b[39mexecute_with_cancellation(\n\u001b[1;32m    606\u001b[0m         \u001b[39mstr\u001b[39m(\u001b[39mself\u001b[39m\u001b[39m.\u001b[39msignature\u001b[39m.\u001b[39mname),\n\u001b[1;32m    607\u001b[0m         num_outputs\u001b[39m=\u001b[39m\u001b[39mself\u001b[39m\u001b[39m.\u001b[39m_num_outputs,\n\u001b[0;32m   (...)\u001b[0m\n\u001b[1;32m    610\u001b[0m         ctx\u001b[39m=\u001b[39mctx,\n\u001b[1;32m    611\u001b[0m         cancellation_manager\u001b[39m=\u001b[39mcancellation_manager)\n",
      "File \u001b[0;32m~/miniforge3/envs/use_kernel/lib/python3.10/site-packages/tensorflow/python/eager/execute.py:58\u001b[0m, in \u001b[0;36mquick_execute\u001b[0;34m(op_name, num_outputs, inputs, attrs, ctx, name)\u001b[0m\n\u001b[1;32m     56\u001b[0m \u001b[39mtry\u001b[39;00m:\n\u001b[1;32m     57\u001b[0m   ctx\u001b[39m.\u001b[39mensure_initialized()\n\u001b[0;32m---> 58\u001b[0m   tensors \u001b[39m=\u001b[39m pywrap_tfe\u001b[39m.\u001b[39;49mTFE_Py_Execute(ctx\u001b[39m.\u001b[39;49m_handle, device_name, op_name,\n\u001b[1;32m     59\u001b[0m                                       inputs, attrs, num_outputs)\n\u001b[1;32m     60\u001b[0m \u001b[39mexcept\u001b[39;00m core\u001b[39m.\u001b[39m_NotOkStatusException \u001b[39mas\u001b[39;00m e:\n\u001b[1;32m     61\u001b[0m   \u001b[39mif\u001b[39;00m name \u001b[39mis\u001b[39;00m \u001b[39mnot\u001b[39;00m \u001b[39mNone\u001b[39;00m:\n",
      "\u001b[0;31mKeyboardInterrupt\u001b[0m: "
     ]
    }
   ],
   "source": [
    "from tensorflow.keras.applications import VGG16\n",
    "\n",
    "img_size = 100\n",
    "pre_train = VGG16(input_shape=(img_size, img_size, 3), include_top=False, weights=\"imagenet\")\n",
    "pre_train.trainable = True\n",
    "\n",
    "set_trainable = False\n",
    "for layer in pre_train.layers:\n",
    "    if layer.name == 'block5_conv1':\n",
    "        set_trainable = True\n",
    "    if set_trainable:\n",
    "        layer.trainable = True\n",
    "    else:\n",
    "        layer.trainable = False\n",
    "        \n",
    "model2 = Sequential()\n",
    "model2.add(pre_train)\n",
    "model2.add(layers.Flatten())\n",
    "model2.add(layers.Dense(64, activation=\"relu\", kernel_regularizer=regularizers.L2(0.01)))\n",
    "model2.add(layers.Dropout(0.5))\n",
    "model2.add(layers.Dense(128, activation=\"relu\", kernel_regularizer=regularizers.L2(0.01)))\n",
    "model2.add(layers.Dropout(0.5))\n",
    "model2.add(layers.Dense(256, activation=\"relu\", kernel_regularizer=regularizers.L2(0.01)))\n",
    "model2.add(layers.Dropout(0.5))\n",
    "model2.add(layers.Dense(10, activation=\"softmax\"))\n",
    "# kernel_regularizer=regularizers.L2(0.01)\n",
    "model2.summary()\n",
    "\n",
    "model2.compile(optimizer=optimizers.Adam(0.0003),\n",
    "              loss='binary_crossentropy',\n",
    "              metrics=['acc'])\n",
    "\n",
    "history = model2.fit(train_generator,\n",
    "                    epochs=30,\n",
    "                    batch_size=32,\n",
    "                    steps_per_epoch = 7500/32,\n",
    "                    validation_data=validation_generator,\n",
    "                    validation_steps=2000/32)\n"
   ]
  },
  {
   "cell_type": "code",
   "execution_count": 8,
   "metadata": {},
   "outputs": [
    {
     "data": {
      "image/png": "[encoded data removed]",
      "text/plain": [
       "<Figure size 432x288 with 1 Axes>"
      ]
     },
     "metadata": {
      "needs_background": "light"
     },
     "output_type": "display_data"
    },
    {
     "data": {
      "image/png": "[encoded data removed]",
      "text/plain": [
       "<Figure size 432x288 with 1 Axes>"
      ]
     },
     "metadata": {
      "needs_background": "light"
     },
     "output_type": "display_data"
    }
   ],
   "source": [
    "acc = history.history['acc']\n",
    "val_acc = history.history['val_acc']\n",
    "loss = history.history['loss']\n",
    "val_loss = history.history['val_loss']\n",
    "\n",
    "epochs = range(len(acc))\n",
    "\n",
    "plt.plot(epochs, acc, 'bo', label='Training acc')\n",
    "plt.plot(epochs, val_acc, 'b', label='Validation acc')\n",
    "plt.title('Training and validation accuracy')\n",
    "plt.legend()\n",
    "\n",
    "plt.figure()\n",
    "\n",
    "plt.plot(epochs, loss, 'bo', label='Training loss')\n",
    "plt.plot(epochs, val_loss, 'b', label='Validation loss')\n",
    "plt.title('Training and validation loss')\n",
    "plt.legend()\n",
    "\n",
    "plt.show()"
   ]
  },
  {
   "cell_type": "code",
   "execution_count": null,
   "metadata": {},
   "outputs": [],
   "source": [
    "# Save the Model\n",
    "model2.save('food_model_2.h5')"
   ]
  },
  {
   "cell_type": "markdown",
   "metadata": {},
   "source": [
    "## Step 3 – Evaluate the Developed Models using Testing Images"
   ]
  },
  {
   "cell_type": "code",
   "execution_count": 385,
   "metadata": {},
   "outputs": [],
   "source": [
    "# Model #1\n",
    "model1 = keras.models.load_model('food_model_1.h5')\n",
    "model1.evaluate()\n",
    "\n"
   ]
  },
  {
   "cell_type": "code",
   "execution_count": 386,
   "metadata": {},
   "outputs": [],
   "source": [
    "# Model #2\n",
    "model2 = keras.models.load_model('food_model_2.h5')\n",
    "\n",
    "\n"
   ]
  },
  {
   "cell_type": "code",
   "execution_count": 387,
   "metadata": {},
   "outputs": [],
   "source": [
    "# Save the best model\n",
    "\n",
    "\n",
    "model2.save('food_model_best.h5')"
   ]
  },
  {
   "cell_type": "markdown",
   "metadata": {},
   "source": [
    "## Step 4  – Use the best model to make prediction"
   ]
  },
  {
   "cell_type": "code",
   "execution_count": 388,
   "metadata": {},
   "outputs": [],
   "source": [
    "# Load the model\n",
    "model = keras.models.load_model('food_model_best.h5')"
   ]
  },
  {
   "cell_type": "code",
   "execution_count": 389,
   "metadata": {},
   "outputs": [
    {
     "ename": "FileNotFoundError",
     "evalue": "[Errno 2] No such file or directory: '??.txt'",
     "output_type": "error",
     "traceback": [
      "\u001b[0;31m---------------------------------------------------------------------------\u001b[0m",
      "\u001b[0;31mFileNotFoundError\u001b[0m                         Traceback (most recent call last)",
      "\u001b[1;32m/Users/dominiclee/Library/CloudStorage/OneDrive-NgeeAnnPolytechnic/Polytechnic/Year 2 Semester 1/DL/Asg 1/Assignment_1_Dominic.ipynb Cell 27'\u001b[0m in \u001b[0;36m<cell line: 2>\u001b[0;34m()\u001b[0m\n\u001b[1;32m      <a href='vscode-notebook-cell:/Users/dominiclee/Library/CloudStorage/OneDrive-NgeeAnnPolytechnic/Polytechnic/Year%202%20Semester%201/DL/Asg%201/Assignment_1_Dominic.ipynb#ch0000025?line=0'>1</a>\u001b[0m \u001b[39m# Load the food list (in alphabetical order)\u001b[39;00m\n\u001b[0;32m----> <a href='vscode-notebook-cell:/Users/dominiclee/Library/CloudStorage/OneDrive-NgeeAnnPolytechnic/Polytechnic/Year%202%20Semester%201/DL/Asg%201/Assignment_1_Dominic.ipynb#ch0000025?line=1'>2</a>\u001b[0m \u001b[39mwith\u001b[39;00m \u001b[39mopen\u001b[39;49m(\u001b[39m'\u001b[39;49m\u001b[39m??.txt\u001b[39;49m\u001b[39m'\u001b[39;49m, \u001b[39m'\u001b[39;49m\u001b[39mr\u001b[39;49m\u001b[39m'\u001b[39;49m) \u001b[39mas\u001b[39;00m f: \u001b[39m# the .txt file which contains a list of food assigned to you\u001b[39;00m\n\u001b[1;32m      <a href='vscode-notebook-cell:/Users/dominiclee/Library/CloudStorage/OneDrive-NgeeAnnPolytechnic/Polytechnic/Year%202%20Semester%201/DL/Asg%201/Assignment_1_Dominic.ipynb#ch0000025?line=2'>3</a>\u001b[0m     x \u001b[39m=\u001b[39m f\u001b[39m.\u001b[39mreadlines()\n\u001b[1;32m      <a href='vscode-notebook-cell:/Users/dominiclee/Library/CloudStorage/OneDrive-NgeeAnnPolytechnic/Polytechnic/Year%202%20Semester%201/DL/Asg%201/Assignment_1_Dominic.ipynb#ch0000025?line=3'>4</a>\u001b[0m food_list \u001b[39m=\u001b[39m[]\n",
      "\u001b[0;31mFileNotFoundError\u001b[0m: [Errno 2] No such file or directory: '??.txt'"
     ]
    }
   ],
   "source": [
    "# Load the food list (in alphabetical order)\n",
    "with open('??.txt', 'r') as f: # the .txt file which contains a list of food assigned to you\n",
    "    x = f.readlines()\n",
    "food_list =[]\n",
    "for item in x:\n",
    "    food_list.append(item.strip('\\n'))\n",
    "food_list = sorted(food_list) # food_list needs to be sorted alphabetically before feed into prediction() function\n",
    "print(food_list)"
   ]
  },
  {
   "cell_type": "code",
   "execution_count": null,
   "metadata": {},
   "outputs": [],
   "source": [
    "# Define some related functions for image process and model prediction\n",
    "from tensorflow.keras.preprocessing.image import load_img, img_to_array\n",
    "def image_process(img):\n",
    "    image = load_img(img, target_size =(img_size, img_size))\n",
    "    image_array = img_to_array(image)/255\n",
    "    return image_array\n",
    "\n",
    "import pandas as pd\n",
    "def prediction(model, img_array, items_l):\n",
    "    prob = model.predict(img_array.reshape(1,img_size,img_size,3))\n",
    "    pro_df = pd.DataFrame(prob, columns = items_l)\n",
    "    result = items_l[np.argmax(prob)]\n",
    "    return pro_df, result"
   ]
  },
  {
   "cell_type": "code",
   "execution_count": null,
   "metadata": {},
   "outputs": [],
   "source": [
    "# Make prediction for the image you downloaded from internet\n",
    "import matplotlib.pyplot as plt\n",
    "img = '??.jpeg' # the picture you downloaded from internet, which contains a type of food in your food list\n",
    "plt.imshow(plt.imread(img))\n",
    "plt.show()\n",
    "\n",
    "img_array = image_process(img)\n",
    "prob_df, result = prediction(model, img_array, food_list)\n",
    "print('The prediction is: ', result, '\\n\\n', prob_df)"
   ]
  }
 ],
 "metadata": {
  "interpreter": {
   "hash": "9cb564d07a057e3e51c5584e4b953f0941e740c44a337ad92da6e0489dcd5f15"
  },
  "kernelspec": {
   "display_name": "Python 3.10.4 ('use_kernel')",
   "language": "python",
   "name": "python3"
  },
  "language_info": {
   "codemirror_mode": {
    "name": "ipython",
    "version": 3
   },
   "file_extension": ".py",
   "mimetype": "text/x-python",
   "name": "python",
   "nbconvert_exporter": "python",
   "pygments_lexer": "ipython3",
   "version": "3.10.4"
  }
 },
 "nbformat": 4,
 "nbformat_minor": 2
}
