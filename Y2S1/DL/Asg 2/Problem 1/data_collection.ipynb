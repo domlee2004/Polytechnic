{
 "cells": [
  {
   "cell_type": "markdown",
   "id": "c0b2050d",
   "metadata": {},
   "source": [
    "Install `google-play-scraper` package using: `pip install google-play-scraper`\n",
    "\n",
    "\n",
    "Please refer to https://pypi.org/project/google-play-scraper/ for details. \n"
   ]
  },
  {
   "cell_type": "code",
   "execution_count": 1,
   "id": "6c36f1d1",
   "metadata": {},
   "outputs": [],
   "source": [
    "from google_play_scraper import Sort, reviews,reviews_all\n",
    "import pandas as pd"
   ]
  },
  {
   "cell_type": "code",
   "execution_count": 2,
   "id": "bc3494bd",
   "metadata": {},
   "outputs": [],
   "source": [
    "# initialization\n",
    "\n",
    "app_name = 'com.snapchat.android' # found in app's url\n",
    "\n",
    "rvws, token = reviews(\n",
    "    app_name,           # found in app's url\n",
    "    lang='en',        # defaults to 'en'\n",
    "    country='us',     # defaults to 'us'\n",
    "    sort=Sort.NEWEST, # start with most recent\n",
    "    count=200       # batch size, set as 200 since 200 reviews per page\n",
    ")\n",
    "\n",
    "app_reviews = rvws\n",
    "batch_num=1"
   ]
  },
  {
   "cell_type": "code",
   "execution_count": 3,
   "id": "db1d19a8",
   "metadata": {},
   "outputs": [
    {
     "name": "stdout",
     "output_type": "stream",
     "text": [
      "(200000, 10)\n"
     ]
    }
   ],
   "source": [
    "# Loop through the number of batches\n",
    "for batch in range(999): # You can adjust the number of batches to collect more or less reviews\n",
    "    rvws, token = reviews( # store continuation_token\n",
    "        app_name,\n",
    "        lang='en',\n",
    "        country='us',\n",
    "        sort=Sort.NEWEST,\n",
    "        count=200,\n",
    "        # using token obtained from previous batch\n",
    "        continuation_token=token\n",
    "    )\n",
    "    app_reviews.extend(rvws)\n",
    "    batch_num += 1\n",
    "\n",
    "df = pd.DataFrame.from_records(app_reviews)\n",
    "print(df.shape)"
   ]
  },
  {
   "cell_type": "code",
   "execution_count": 4,
   "id": "dd19e0f2",
   "metadata": {},
   "outputs": [
    {
     "name": "stdout",
     "output_type": "stream",
     "text": [
      "(8000, 10)\n",
      "(8000, 10)\n",
      "(8000, 10)\n",
      "(8000, 10)\n",
      "(8000, 10)\n"
     ]
    }
   ],
   "source": [
    "df_score5 = df.loc[df['score'] == 5]\n",
    "df_score5 = df_score5[:8000]\n",
    "\n",
    "print(df_score5.shape)\n",
    "df_score4 = df.loc[df['score'] == 4]\n",
    "df_score4 = df_score4[:8000]\n",
    "\n",
    "print(df_score4.shape)\n",
    "df_score3 = df.loc[df['score'] == 3]\n",
    "df_score3 = df_score3[:8000]\n",
    "\n",
    "print(df_score3.shape)\n",
    "df_score2 = df.loc[df['score'] == 2]\n",
    "df_score2 = df_score2[:8000]\n",
    "\n",
    "print(df_score2.shape)\n",
    "df_score1 = df.loc[df['score'] == 1]\n",
    "df_score1 = df_score1[:8000]\n",
    "\n",
    "print(df_score1.shape)\n",
    "df_scores = pd.concat([df_score1, df_score2, df_score3, df_score4, df_score5])"
   ]
  },
  {
   "cell_type": "code",
   "execution_count": 5,
   "id": "65dc0ab7",
   "metadata": {},
   "outputs": [
    {
     "data": {
      "text/plain": [
       "1    8000\n",
       "2    8000\n",
       "3    8000\n",
       "4    8000\n",
       "5    8000\n",
       "Name: score, dtype: int64"
      ]
     },
     "execution_count": 5,
     "metadata": {},
     "output_type": "execute_result"
    }
   ],
   "source": [
    "df_scores.to_csv('snapchat_reviews.csv',index=False)\n",
    "df_scores.score.value_counts()"
   ]
  }
 ],
 "metadata": {
  "kernelspec": {
   "display_name": "Python 3.9.7 ('base')",
   "language": "python",
   "name": "python3"
  },
  "language_info": {
   "codemirror_mode": {
    "name": "ipython",
    "version": 3
   },
   "file_extension": ".py",
   "mimetype": "text/x-python",
   "name": "python",
   "nbconvert_exporter": "python",
   "pygments_lexer": "ipython3",
   "version": "3.9.7"
  },
  "vscode": {
   "interpreter": {
    "hash": "ad2bdc8ecc057115af97d19610ffacc2b4e99fae6737bb82f5d7fb13d2f2c186"
   }
  }
 },
 "nbformat": 4,
 "nbformat_minor": 5
}
