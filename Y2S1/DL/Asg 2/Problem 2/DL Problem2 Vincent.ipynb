{
 "cells": [
  {
   "cell_type": "markdown",
   "metadata": {},
   "source": [
    "<table class=\"table table-bordered\">\n",
    "    <tr>\n",
    "        <th style=\"text-align:center; width:25%\"><img src='https://www.np.edu.sg/PublishingImages/Pages/default/odp/ICT.jpg' style=\"width: 250px; height: 125px; \"></th>\n",
    "        <th style=\"text-align:center;\"><h1>Deep Learning</h1><h2>Assignment 2  (Problem 2) - Character Generator Model (Individual)</h2><h3>AY2022/23 Semester</h3></th>\n",
    "    </tr>\n",
    "</table>"
   ]
  },
  {
   "cell_type": "code",
   "execution_count": 1,
   "metadata": {},
   "outputs": [],
   "source": [
    "# Import the Required Packages\n",
    "\n",
    "import numpy as np\n",
    "import tensorflow as tf\n",
    "from tensorflow import keras\n",
    "from tensorflow.keras import layers\n",
    "from tensorflow.keras import optimizers\n",
    "from tensorflow.keras import models\n",
    "import tensorflow_datasets as tfds\n",
    "from tensorflow.keras.preprocessing.text import Tokenizer\n",
    "from tensorflow.keras.preprocessing.sequence import pad_sequences\n",
    "from tensorflow.keras.utils import to_categorical\n",
    "\n",
    "import matplotlib.pyplot as plt\n",
    "%matplotlib inline\n",
    "\n",
    "import random\n",
    "import sys\n",
    "\n",
    "import pandas as pd\n",
    "from tensorflow.keras.models import load_model"
   ]
  },
  {
   "cell_type": "markdown",
   "metadata": {},
   "source": [
    "## Step 1 – Data Loading and Processing"
   ]
  },
  {
   "cell_type": "markdown",
   "metadata": {},
   "source": [
    "### 1.1 Data Loading"
   ]
  },
  {
   "cell_type": "code",
   "execution_count": 2,
   "metadata": {},
   "outputs": [
    {
     "name": "stdout",
     "output_type": "stream",
     "text": [
      "474429\n"
     ]
    }
   ],
   "source": [
    "harry_potter_txt = open('Harry_Potter_Book1.txt',encoding=\"utf-8\").read()\n",
    "\n",
    "print(len(harry_potter_txt))"
   ]
  },
  {
   "cell_type": "code",
   "execution_count": 3,
   "metadata": {},
   "outputs": [],
   "source": [
    "text = harry_potter_txt.lower().split(\"\\n\")"
   ]
  },
  {
   "cell_type": "code",
   "execution_count": 4,
   "metadata": {},
   "outputs": [
    {
     "name": "stdout",
     "output_type": "stream",
     "text": [
      "15261\n",
      "<class 'list'>\n"
     ]
    }
   ],
   "source": [
    "print(len(text))    \n",
    "print(type(text))\n"
   ]
  },
  {
   "cell_type": "markdown",
   "metadata": {},
   "source": [
    "### 1.2 Data Processing\n"
   ]
  },
  {
   "cell_type": "code",
   "execution_count": 5,
   "metadata": {},
   "outputs": [
    {
     "name": "stdout",
     "output_type": "stream",
     "text": [
      "page | 2 harry potter and the philosophers stone - j.k. rowling\n",
      "page | 3 harry potter and the philosophers stone - j.k. rowling\n",
      "page | 4 harry potter and the philosophers stone - j.k. rowling\n",
      "page | 5 harry potter and the philosophers stone - j.k. rowling\n",
      "page | 6 harry potter and the philosophers stone - j.k. rowling\n",
      "page | 7 harry potter and the philosophers stone - j.k. rowling\n",
      "page | 8 harry potter and the philosophers stone - j.k. rowling\n",
      "page | 9 harry potter and the philosophers stone - j.k. rowling\n",
      "page | 10 harry potter and the philosophers stone - j.k. rowling\n",
      "page | 11 harry potter and the philosophers stone - j.k. rowling\n",
      "page | 12 harry potter and the philosophers stone - j.k. rowling\n",
      "page | 13 harry potter and the philosophers stone - j.k. rowling\n",
      "page | 14 harry potter and the philosophers stone -j.k. rowling\n",
      "page | 15 harry potter and the philosophers stone - j.k. rowling\n",
      "page | 16 harry potter and the philosophers stone - j.k. rowling\n",
      "page | 17 harry potter and the philosophers stone - j.k. rowling\n",
      "page | 18 harry potter and the philosophers stone - j.k. rowling\n",
      "page | 19 harry potter and the philosophers stone - j.k. rowling\n",
      "page | 20 harry potter and the philosophers stone - j.k. rowling\n",
      "page | 21 harry potter and the philosophers stone - j.k. rowling\n",
      "page | 22 harry potter and the philosophers stone - j.k. rowling\n",
      "page | 23 harry potter and the philosophers stone - j.k. rowling\n",
      "page | 24 harry potter and the philosophers stone - j.k. rowling\n",
      "page | 25 harry potter and the philosophers stone - j.k. rowling\n",
      "page | 26 harry potter and the philosophers stone - j.k. rowling\n",
      "page | 27 harry potter and the philosophers stone - j.k. rowling\n",
      "page | 28 harry potter and the philosophers stone - j.k. rowling\n",
      "page | 29 harry potter and the philosophers stone - j.k. rowling\n",
      "page | 30 harry potter and the philosophers stone - j.k. rowling\n",
      "page | 31 harry potter and the philosophers stone - j.k. rowling\n",
      "page | 32 harry potter and the philosophers stone - j.k. rowling\n",
      "page | 33 harry potter and the philosophers stone - j.k. rowling\n",
      "page | 34 harry potter and the philosophers stone - j.k. rowling\n",
      "page | 35 harry potter and the philosophers stone - j.k. rowling\n",
      "page | 36 harry potter and the philosophers stone - j.k. rowling\n",
      "page | 37 harry potter and the philosophers stone - j.k. rowling\n",
      "page | 38 harry potter and the philosophers stone - j.k. rowling\n",
      "page | 39 harry potter and the philosophers stone - j.k. rowling\n",
      "page | 40 harry potter and the philosophers stone - j.k. rowling\n",
      "page | 41 harry potter and the philosophers stone - j.k. rowling\n",
      "page | 42 harry potter and the philosophers stone - j.k. rowling\n",
      "page | 43 harry potter and the philosophers stone -j.k. rowling\n",
      "•k k k\n",
      "page | 44 harry potter and the philosophers stone - j.k. rowling\n",
      "page | 45 harry potter and the philosophers stone - j.k. rowling\n",
      "•k k k\n",
      "page | 46 harry potter and the philosophers stone - j.k. rowling\n",
      "page | 47 harry potter and the philosophers stone - j.k. rowling\n",
      "page | 48 harry potter and the philosophers stone - j.k. rowling\n",
      "page | 49 harry potter and the philosophers stone - j.k. rowling\n",
      "page | 50 harry potter and the philosophers stone - j.k. rowling\n",
      "page | 51 harry potter and the philosophers stone - j.k. rowling\n",
      "page | 52 harry potter and the philosophers stone - j.k. rowling\n",
      "page | 53 harry potter and the philosophers stone - j.k. rowling\n",
      "page | 54 harry potter and the philosophers stone - j.k. rowling\n",
      "page | 55 harry potter and the philosophers stone - j.k. rowling\n",
      "page | 56 harry potter and the philosophers stone - j.k. rowling\n",
      "page | 57 harry potter and the philosophers stone - j.k. rowling\n",
      "page | 58 harry potter and the philosophers stone - j.k. rowling\n",
      "page | 59 harry potter and the philosophers stone - j.k. rowling\n",
      "page | 60 harry potter and the philosophers stone - j.k. rowling\n",
      "page | 61 harry potter and the philosophers stone - j.k. rowling\n",
      "page | 62 harry potter and the philosophers stone - j.k. rowling\n",
      "page | 63 harry potter and the philosophers stone - j.k. rowling\n",
      "page | 64 harry potter and the philosophers stone - j.k. rowling\n",
      "page | 65 harry potter and the philosophers stone - j.k. rowling\n",
      "page | 66 harry potter and the philosophers stone - j.k. rowling\n",
      "page | 67 harry potter and the philosophers stone - j.k. rowling\n",
      "page | 68 harry potter and the philosophers stone - j.k. rowling\n",
      "page | 69 harry potter and the philosophers stone - j.k. rowling\n",
      "page | 70 harry potter and the philosophers stone - j.k. rowling\n",
      "page | 71 harry potter and the philosophers stone - j.k. rowling\n",
      "page | 72 harry potter and the philosophers stone - j.k. rowling\n",
      "page | 73 harry potter and the philosophers stone - j.k. rowling\n",
      "page | 74 harry potter and the philosophers stone - j.k. rowling\n",
      "page | 75 harry potter and the philosophers stone - j.k. rowling\n",
      "page | 76 harry potter and the philosophers stone - j.k. rowling\n",
      "page | 77 harry potter and the philosophers stone - j.k. rowling\n",
      "page | 78 harry potter and the philosophers stone - j.k. rowling\n",
      "page | 79 harry potter and the philosophers stone - j.k. rowling\n",
      "page | 80 harry potter and the philosophers stone - j.k. rowling\n",
      "page | 81 harry potter and the philosophers stone - j.k. rowling\n",
      "page | 82 harry potter and the philosophers stone - j.k. rowling\n",
      "page | 83 harry potter and the philosophers stone - j.k. rowling\n",
      "page | 84 harry potter and the philosophers stone - j.k. rowling\n",
      "page | 85 harry potter and the philosophers stone - j.k. rowling\n",
      "page | 86 harry potter and the philosophers stone - j.k. rowling\n",
      "page | 87 harry potter and the philosophers stone - j.k. rowling\n",
      "page | 88 harry potter and the philosophers stone - j.k. rowling\n",
      "page | 89 harry potter and the philosophers stone - j.k. rowling\n",
      "page | 90 harry potter and the philosophers stone - j.k. rowling\n",
      "page | 91 harry potter and the philosophers stone - j.k. rowling\n",
      "page | 92 harry potter and the philosophers stone - j.k. rowling\n",
      "page | 93 harry potter and the philosophers stone - j.k. rowling\n",
      "page | 94 harry potter and the philosophers stone - j.k. rowling\n",
      "page | 95 harry potter and the philosophers stone - j.k. rowling\n",
      "page | 96 harry potter and the philosophers stone - j.k. rowling\n",
      "page | 97 harry potter and the philosophers stone - j.k. rowling\n",
      "page | 98 harry potter and the philosophers stone - j.k. rowling\n",
      "page | 99 harry potter and the philosophers stone - j.k. rowling\n",
      "page | 100 harry potter and the philosophers stone - j.k. rowling\n",
      "page | 101 harry potter and the philosophers stone - j.k. rowling\n",
      "page | 102 harry potter and the philosophers stone - j.k. rowling\n",
      "page | 103 harry potter and the philosophers stone - j.k. rowling\n",
      "page | 104 harry potter and the philosophers stone - j.k. rowling\n",
      "page | 105 harry potter and the philosophers stone - j.k. rowling\n",
      "page | 106 harry potter and the philosophers stone - j.k. rowling\n",
      "page | 107 harry potter and the philosophers stone - j.k. rowling\n",
      "page | 108 harry potter and the philosophers stone - j.k. rowling\n",
      "page | 109 harry potter and the philosophers stone - j.k. rowling\n",
      "page | 110 harry potter and the philosophers stone - j.k. rowling\n",
      "page | 111 harry potter and the philosophers stone - j.k. rowling\n",
      "page | 112 harry potter and the philosophers stone - j.k. rowling\n",
      "page | 113 harry potter and the philosophers stone - j.k. rowling\n",
      "page | 114 harry potter and the philosophers stone - j.k. rowling\n",
      "page | 115 harry potter and the philosophers stone - j.k. rowling\n",
      "page | 116 harry potter and the philosophers stone - j.k. rowling\n",
      "page | 117 harry potter and the philosophers stone - j.k. rowling\n",
      "page | 118 harry potter and the philosophers stone - j.k. rowling\n",
      "page | 119 harry potter and the philosophers stone - j.k. rowling\n",
      "page | 120 harry potter and the philosophers stone - j.k. rowling\n",
      "page | 121 harry potter and the philosophers stone - j.k. rowling\n",
      "page | 122 harry potter and the philosophers stone - j.k. rowling\n",
      "page | 123 harry potter and the philosophers stone - j.k. rowling\n",
      "page | 124 harry potter and the philosophers stone - j.k. rowling\n",
      "page | 125 harry potter and the philosophers stone - j.k. rowling\n",
      "page | 126 harry potter and the philosophers stone - j.k. rowling\n",
      "page | 127 harry potter and the philosophers stone -j.k. rowling\n",
      "page | 128 harry potter and the philosophers stone - j.k. rowling\n",
      "page | 129 harry potter and the philosophers stone - j.k. rowling\n",
      "page | 130 harry potter and the philosophers stone - j.k. rowling\n",
      "page | 131 harry potter and the philosophers stone - j.k. rowling\n",
      "page | 132 harry potter and the philosophers stone - j.k. rowling\n",
      "page | 133 harry potter and the philosophers stone - j.k. rowling\n",
      "page | 134 harry potter and the philosophers stone - j.k. rowling\n",
      "page | 135 harry potter and the philosophers stone - j.k. rowling\n",
      "page | 136 harry potter and the philosophers stone - j.k. rowling\n",
      "page | 137 harry potter and the philosophers stone - j.k. rowling\n",
      "page | 138 harry potter and the philosophers stone - j.k. rowling\n",
      "page | 139 harry potter and the philosophers stone - j.k. rowling\n",
      "page | 140 harry potter and the philosophers stone -j.k. rowling\n",
      "page | 141 harry potter and the philosophers stone - j.k. rowling\n",
      "page | 142 harry potter and the philosophers stone -j.k. rowling\n",
      "page | 143 harry potter and the philosophers stone -j.k. rowling\n",
      "page | 144 harry potter and the philosophers stone - j.k. rowling\n",
      "page | 145 harry potter and the philosophers stone -j.k. rowling\n",
      "page | 146 harry potter and the philosophers stone - j.k. rowling\n",
      "page | 147 harry potter and the philosophers stone -j.k. rowling\n",
      "page | 148 harry potter and the philosophers stone -j.k. rowling\n",
      "page | 149 harry potter and the philosophers stone - j.k. rowling\n",
      "page | 150 harry potter and the philosophers stone - j.k. rowling\n",
      "page | 151 harry potter and the philosophers stone - j.k. rowling\n",
      "page | 152 harry potter and the philosophers stone - j.k. rowling\n",
      "page | 153 harry potter and the philosophers stone - j.k. rowling\n",
      "page | 154 harry potter and the philosophers stone - j.k. rowling\n",
      "page | 155 harry potter and the philosophers stone - j.k. rowling\n",
      "page | 156 harry potter and the philosophers stone - j.k. rowling\n",
      "page | 157 harry potter and the philosophers stone - j.k. rowling\n",
      "page | 158 harry potter and the philosophers stone - j.k. rowling\n",
      "page | 159 harry potter and the philosophers stone - j.k. rowling\n",
      "page | 160 harry potter and the philosophers stone -j.k. rowling\n",
      "page | 161 harry potter and the philosophers stone - j.k. rowling\n",
      "page | 162 harry potter and the philosophers stone - j.k. rowling\n",
      "page | 163 harry potter and the philosophers stone - j.k. rowling\n",
      "page | 164 harry potter and the philosophers stone - j.k. rowling\n",
      "page | 165 harry potter and the philosophers stone - j.k. rowling\n",
      "page | 166 harry potter and the philosophers stone - j.k. rowling\n",
      "page | 167 harry potter and the philosophers stone - j.k. rowling\n",
      "page | 168 harry potter and the philosophers stone - j.k. rowling\n",
      "page | 169 harry potter and the philosophers stone - j.k. rowling\n",
      "page | 170 harry potter and the philosophers stone - j.k. rowling\n",
      "page | 171 harry potter and the philosophers stone - j.k. rowling\n",
      "page | 172 harry potter and the philosophers stone - j.k. rowling\n",
      "page | 173 harry potter and the philosophers stone - j.k. rowling\n",
      "page | 174 harry potter and the philosophers stone - j.k. rowling\n",
      "page | 175 harry potter and the philosophers stone - j.k. rowling\n",
      "page | 176 harry potter and the philosophers stone - j.k. rowling\n",
      "page | 177 harry potter and the philosophers stone - j.k. rowling\n",
      "page | 178 harry potter and the philosophers stone - j.k. rowling\n",
      "page | 179 harry potter and the philosophers stone - j.k. rowling\n",
      "page | 180 harry potter and the philosophers stone - j.k. rowling\n",
      "page | 181 harry potter and the philosophers stone - j.k. rowling\n",
      "page | 182 harry potter and the philosophers stone - j.k. rowling\n",
      "page | 183 harry potter and the philosophers stone -j.k. rowling\n",
      "page | 184 harry potter and the philosophers stone - j.k. rowling\n",
      "page | 185 harry potter and the philosophers stone - j.k. rowling\n",
      "page | 186 harry potter and the philosophers stone - j.k. rowling\n",
      "page | 187 harry potter and the philosophers stone - j.k. rowling\n",
      "page | 188 harry potter and the philosophers stone - j.k. rowling\n",
      "page | 189 harry potter and the philosophers stone - j.k. rowling\n",
      "page | 190 harry potter and the philosophers stone - j.k. rowling\n",
      "page | 191 harry potter and the philosophers stone - j.k. rowling\n",
      "page | 192 harry potter and the philosophers stone - j.k. rowling\n",
      "page | 193 harry potter and the philosophers stone - j.k. rowling\n",
      "page | 194 harry potter and the philosophers stone - j.k. rowling\n",
      "page | 195 harry potter and the philosophers stone - j.k. rowling\n",
      "page | 196 harry potter and the philosophers stone - j.k. rowling\n",
      "page | 197 harry potter and the philosophers stone - j.k. rowling\n",
      "page | 198 harry potter and the philosophers stone - j.k. rowling\n",
      "page | 199 harry potter and the philosophers stone - j.k. rowling\n",
      "page | 200 harry potter and the philosophers stone - j.k. rowling\n",
      "page | 201 harry potter and the philosophers stone - j.k. rowling\n",
      "page | 202 harry potter and the philosophers stone - j.k. rowling\n",
      "page | 203 harry potter and the philosophers stone - j.k. rowling\n",
      "page | 204 harry potter and the philosophers stone - j.k. rowling\n",
      "page | 205 harry potter and the philosophers stone - j.k. rowling\n",
      "page | 206 harry potter and the philosophers stone - j.k. rowling\n",
      "page | 207 harry potter and the philosophers stone - j.k. rowling\n",
      "page | 208 harry potter and the philosophers stone - j.k. rowling\n",
      "page | 209 harry potter and the philosophers stone - j.k. rowling\n",
      "page | 210 harry potter and the philosophers stone - j.k. rowling\n",
      "page | 211 harry potter and the philosophers stone - j.k. rowling\n",
      "page | 212 harry potter and the philosophers stone - j.k. rowling\n",
      "page | 213 harry potter and the philosophers stone - j.k. rowling\n",
      "page | 214 harry potter and the philosophers stone - j.k. rowling\n",
      "page | 215 harry potter and the philosophers stone - j.k. rowling\n",
      "dumbledore an’ nicolas flamel — ■”\n",
      "dumbledore an’ nicolas flamel\n",
      "page | 216 harry potter and the philosophers stone - j.k. rowling\n",
      "page | 217 harry potter and the philosophers stone - j.k. rowling\n",
      "page | 218 harry potter and the philosophers stone - j.k. rowling\n",
      "page | 219 harry potter and the philosophers stone - j.k. rowling\n",
      "page | 220 harry potter and the philosophers stone - j.k. rowling\n",
      "page | 221 harry potter and the philosophers stone - j.k. rowling\n",
      "page | 222 harry potter and the philosophers stone - j.k. rowling\n",
      "page | 223 harry potter and the philosophers stone - j.k. rowling\n",
      "page | 224 harry potter and the philosophers stone - j.k. rowling\n",
      "page | 225 harry potter and the philosophers stone - j.k. rowling\n",
      "page | 226 harry potter and the philosophers stone - j.k. rowling\n",
      "page | 227 harry potter and the philosophers stone - j.k. rowling\n",
      "page | 228 harry potter and the philosophers stone - j.k. rowling\n",
      "page | 229 harry potter and the philosophers stone - j.k. rowling\n",
      "page | 230 harry potter and the philosophers stone - j.k. rowling\n",
      "page | 231 harry potter and the philosophers stone - j.k. rowling\n",
      "page | 232 harry potter and the philosophers stone - j.k. rowling\n",
      "page | 233 harry potter and the philosophers stone - j.k. rowling\n",
      "page | 234 harry potter and the philosophers stone - j.k. rowling\n",
      "page | 235 harry potter and the philosophers stone - j.k. rowling\n",
      "page | 236 harry potter and the philosophers stone - j.k. rowling\n",
      "page | 237 harry potter and the philosophers stone - j.k. rowling\n",
      "page | 238 harry potter and the philosophers stone - j.k. rowling\n",
      "page | 239 harry potter and the philosophers stone - j.k. rowling\n",
      "page | 240 harry potter and the philosophers stone - j.k. rowling\n",
      "page | 241 harry potter and the philosophers stone - j.k. rowling\n",
      "page | 242 harry potter and the philosophers stone - j.k. rowling\n",
      "page | 243 harry potter and the philosophers stone - j.k. rowling\n",
      "page | 244 harry potter and the philosophers stone - j.k. rowling\n",
      "page | 245 harry potter and the philosophers stone - j.k. rowling\n",
      "page | 246 harry potter and the philosophers stone - j.k. rowling\n",
      "page | 247 harry potter and the philosophers stone - j.k. rowling\n",
      "page | 248 harry potter and the philosophers stone - j.k. rowling\n",
      "page | 249 harry potter and the philosophers stone - j.k. rowling\n",
      "page | 250 harry potter and the philosophers stone - j.k. rowling\n",
      "page | 251 harry potter and the philosophers stone - j.k. rowling\n",
      "page | 252 harry potter and the philosophers stone - j.k. rowling\n",
      "page | 253 harry potter and the philosophers stone - j.k. rowling\n",
      "page | 254 harry potter and the philosophers stone - j.k. rowling\n",
      "page | 255 harry potter and the philosophers stone - j.k. rowling\n",
      "page | 256 harry potter and the philosophers stone - j.k. rowling\n",
      "page | 257 harry potter and the philosophers stone - j.k. rowling\n",
      "page | 258 harry potter and the philosophers stone - j.k. rowling\n",
      "page | 259 harry potter and the philosophers stone - j.k. rowling\n",
      "page | 260 harry potter and the philosophers stone - j.k. rowling\n",
      "page | 261 harry potter and the philosophers stone - j.k. rowling\n",
      "page | 262 harry potter and the philosophers stone - j.k. rowling\n",
      "page | 263 harry potter and the philosophers stone - j.k. rowling\n",
      "page | 264 harry potter and the philosophers stone - j.k. rowling\n",
      "page | 265 harry potter and the philosophers stone - j.k. rowling\n",
      "page | 266 harry potter and the philosophers stone - j.k. rowling\n",
      "page | 267 harry potter and the philosophers stone - j.k. rowling\n",
      "page | 268 harry potter and the philosophers stone - j.k. rowling\n",
      "page | 269 harry potter and the philosophers stone - j.k. rowling\n",
      "page | 270 harry potter and the philosophers stone - j.k. rowling\n",
      "page | 271 harry potter and the philosophers stone - j.k. rowling\n",
      "page | 272 harry potter and the philosophers stone - j.k. rowling\n",
      "page | 273 harry potter and the philosophers stone - j.k. rowling\n",
      "page | 274 harry potter and the philosophers stone - j.k. rowling\n",
      "page | 275 harry potter and the philosophers stone - j.k. rowling\n",
      "page | 276 harry potter and the philosophers stone - j.k. rowling\n",
      "page | 277 harry potter and the philosophers stone - j.k. rowling\n",
      "page | 278 harry potter and the philosophers stone - j.k. rowling\n",
      "page | 279 harry potter and the philosophers stone - j.k. rowling\n",
      "page | 280 harry potter and the philosophers stone - j.k. rowling\n",
      "page | 281 harry potter and the philosophers stone - j.k. rowling\n",
      "page | 282 harry potter and the philosophers stone - j.k. rowling\n",
      "page | 283 harry potter and the philosophers stone - j.k. rowling\n",
      "page | 284 harry potter and the philosophers stone - j.k. rowling\n",
      "page | 285 harry potter and the philosophers stone - j.k. rowling\n",
      "page | 286 harry potter and the philosophers stone - j.k. rowling\n",
      "page | 287 harry potter and the philosophers stone - j.k. rowling\n",
      "page | 288 harry potter and the philosophers stone - j.k. rowling\n",
      "page | 289 harry potter and the philosophers stone - j.k. rowling\n",
      "page | 290 harry potter and the philosophers stone - j.k. rowling\n",
      "page | 291 harry potter and the philosophers stone - j.k. rowling\n",
      "page | 292 harry potter and the philosophers stone - j.k. rowling\n",
      "page | 293 harry potter and the philosophers stone - j.k. rowling\n",
      "page | 294 harry potter and the philosophers stone - j.k. rowling\n",
      "page | 295 harry potter and the philosophers stone - j.k. rowling\n",
      "page | 296 harry potter and the philosophers stone - j.k. rowling\n",
      "page | 297 harry potter and the philosophers stone - j.k. rowling\n",
      "page | 298 harry potter and the philosophers stone - j.k. rowling\n",
      "page | 299 harry potter and the philosophers stone - j.k. rowling\n",
      "page | 300 harry potter and the philosophers stone - j.k. rowling\n",
      "page | 301 harry potter and the philosophers stone - j.k. rowling\n",
      "page | 302 harry potter and the philosophers stone - j.k. rowling\n",
      "page | 303 harry potter and the philosophers stone - j.k. rowling\n",
      "page | 304 harry potter and the philosophers stone - j.k. rowling\n",
      "page | 305 harry potter and the philosophers stone - j.k. rowling\n",
      "page | 306 harry potter and the philosophers stone - j.k. rowling\n",
      "page | 307 harry potter and the philosophers stone - j.k. rowling\n",
      "page | 308 harry potter and the philosophers stone - j.k. rowling\n",
      "page | 309 harry potter and the philosophers stone - j.k. rowling\n",
      "page | 310 harry potter and the philosophers stone - j.k. rowling\n",
      "page | 311 harry potter and the philosophers stone - j.k. rowling\n",
      "page | 312 harry potter and the philosophers stone - j.k. rowling\n",
      "page | 313 harry potter and the philosophers stone - j.k. rowling\n",
      "page | 314 harry potter and the philosophers stone - j.k. rowling\n",
      "page | 315 harry potter and the philosophers stone - j.k. rowling\n",
      "page | 316 harry potter and the philosophers stone - j.k. rowling\n",
      "page | 317 harry potter and the philosophers stone - j.k. rowling\n",
      "page | 318 harry potter and the philosophers stone - j.k. rowling\n",
      "page | 319 harry potter and the philosophers stone - j.k. rowling\n",
      "page | 320 harry potter and the philosophers stone - j.k. rowling\n",
      "page | 321 harry potter and the philosophers stone - j.k. rowling\n",
      "page | 322 harry potter and the philosophers stone - j.k. rowling\n",
      "page | 323 harry potter and the philosophers stone - j.k. rowling\n",
      "page | 324 harry potter and the philosophers stone - j.k. rowling\n",
      "page | 325 harry potter and the philosophers stone - j.k. rowling\n",
      "page | 326 harry potter and the philosophers stone - j.k. rowling\n",
      "page | 327 harry potter and the philosophers stone - j.k. rowling\n",
      "page | 328 harry potter and the philosophers stone - j.k. rowling\n",
      "page | 329 harry potter and the philosophers stone - j.k. rowling\n",
      "page | 330 harry potter and the philosophers stone - j.k. rowling\n",
      "page | 331 harry potter and the philosophers stone - j.k. rowling\n",
      "page | 332 harry potter and the philosophers stone - j.k. rowling\n",
      "page | 333 harry potter and the philosophers stone - j.k. rowling\n",
      "page | 334 harry potter and the philosophers stone - j.k. rowling\n",
      "page | 335 harry potter and the philosophers stone - j.k. rowling\n",
      "page | 336 harry potter and the philosophers stone - j.k. rowling\n",
      "page | 337 harry potter and the philosophers stone - j.k. rowling\n",
      "page | 338 harry potter and the philosophers stone - j.k. rowling\n",
      "page | 339 harry potter and the philosophers stone - j.k. rowling\n",
      "•k k k\n",
      "page | 340 harry potter and the philosophers stone - j.k. rowling\n",
      "page | 341 harry potter and the philosophers stone - j.k. rowling\n",
      "page | 342 harry potter and the philosophers stone - j.k. rowling\n",
      "page | 343 harry potter and the philosophers stone - j.k. rowling\n",
      "page | 344 harry potter and the philosophers stone - j.k. rowling\n",
      "page | 345 harry potter and the philosophers stone - j.k. rowling\n",
      "page | 346 harry potter and the philosophers stone - j.k. rowling\n",
      "page | 347 harry potter and the philosophers stone - j.k. rowling\n",
      "page | 348 harry potter and the philosophers stone - j.k. rowling\n",
      "Done\n"
     ]
    }
   ],
   "source": [
    "#Remove all spaces in empty string \n",
    "for i in range(len(text)):\n",
    "    text[i] = text[i].strip()\n",
    "    \n",
    "#Remove \"/\" from the text \n",
    "text.pop(0)\n",
    "\n",
    "#Remove Page numbers from text\n",
    "for i in range(len(text)):\n",
    "    #del_pages = \"Page | \"+str(i)+\"Harry Potter and the Philosophers Stone - J.K. Rowling \"\n",
    "    #text = list(filter(none,text))\n",
    "    try:\n",
    "        if \"page |\" in text[i]:\n",
    "            print(text[i])\n",
    "            #print(i)\n",
    "            text.remove(text[i])\n",
    "        if \"•k k k\" in text[i]:\n",
    "            print(text[i])\n",
    "            text.remove(text[i])\n",
    "        if \"■\" in text[i]:\n",
    "            print(text[i])\n",
    "            text[i] = text[i][:-5]\n",
    "            print(text[i])\n",
    "    except:\n",
    "        print(\"Done\")\n",
    "        break\n",
    "\n",
    "#Remove empty strings from text\n",
    "text = list(filter(None, text))\n",
    "\n",
    "str_story = \" \".join([str(item) for item in text])\n",
    "#print(str_story)"
   ]
  },
  {
   "cell_type": "code",
   "execution_count": 6,
   "metadata": {},
   "outputs": [
    {
     "name": "stdout",
     "output_type": "stream",
     "text": [
      "9793\n"
     ]
    }
   ],
   "source": [
    "print(len(text))"
   ]
  },
  {
   "cell_type": "markdown",
   "metadata": {},
   "source": [
    "## Step 2 – Develop Character Generator Model"
   ]
  },
  {
   "cell_type": "code",
   "execution_count": 7,
   "metadata": {},
   "outputs": [
    {
     "name": "stdout",
     "output_type": "stream",
     "text": [
      "Number of sequences: 145432\n",
      "sentences[0]:  the boy who lived mr. and mrs. dursley, of number four, priv\n",
      "next_chars[0]:  e\n",
      "\n",
      "\n",
      "sentences[1]:   boy who lived mr. and mrs. dursley, of number four, privet \n",
      "next_chars[1]:  d\n",
      "Unique characters: 55\n",
      "[' ', '!', '\"', \"'\", '(', ')', ',', '-', '.', '/', '0', '1', '2', '3', '4', '5', '6', '7', '8', '9', ':', ';', '?', '\\\\', 'a', 'b', 'c', 'd', 'e', 'f', 'g', 'h', 'i', 'j', 'k', 'l', 'm', 'n', 'o', 'p', 'q', 'r', 's', 't', 'u', 'v', 'w', 'x', 'y', 'z', '—', '‘', '’', '“', '”']\n"
     ]
    }
   ],
   "source": [
    "# Length of extracted character sequences\n",
    "maxlen = 60\n",
    "\n",
    "# We sample a new sequence every `step` characters\n",
    "step = 3\n",
    "\n",
    "# This holds our extracted sequences\n",
    "sentences = []\n",
    "\n",
    "# This holds the targets (the follow-up characters)\n",
    "next_chars = []\n",
    "\n",
    "for i in range(0, len(str_story) - maxlen, step):\n",
    "    sentences.append(str_story[i: i + maxlen])\n",
    "    next_chars.append(str_story[i + maxlen])\n",
    "print('Number of sequences:', len(sentences))\n",
    "print('sentences[0]: ',sentences[0])\n",
    "print('next_chars[0]: ',next_chars[0])\n",
    "print('\\n')\n",
    "print('sentences[1]: ',sentences[1])\n",
    "print('next_chars[1]: ',next_chars[1])\n",
    "\n",
    "# List of unique characters in the corpus\n",
    "chars = sorted(list(set(str_story)))\n",
    "print('Unique characters:', len(chars))\n",
    "print(chars)\n",
    "# Dictionary mapping unique characters to their index in `chars`\n",
    "char_indices = dict((char, chars.index(char)) for char in chars)"
   ]
  },
  {
   "cell_type": "code",
   "execution_count": 8,
   "metadata": {},
   "outputs": [
    {
     "name": "stdout",
     "output_type": "stream",
     "text": [
      "Vectorization...\n",
      "len(x):  145432\n",
      "x[0]:  [[False False False ... False False False]\n",
      " [False False False ... False False False]\n",
      " [False False False ... False False False]\n",
      " ...\n",
      " [False False False ... False False False]\n",
      " [False False False ... False False False]\n",
      " [False False False ... False False False]]\n",
      "len(y):  145432\n",
      "y[0]:  [False False False False False False False False False False False False\n",
      " False False False False False False False False False False False False\n",
      " False False False False  True False False False False False False False\n",
      " False False False False False False False False False False False False\n",
      " False False False False False False False]\n"
     ]
    }
   ],
   "source": [
    "# Next, one-hot encode the characters into binary arrays.\n",
    "print('Vectorization...')\n",
    "x = np.zeros((len(sentences), maxlen, len(chars)), dtype=bool)\n",
    "y = np.zeros((len(sentences), len(chars)), dtype=np.bool_)\n",
    "for i, sentence in enumerate(sentences):\n",
    "    for t, char in enumerate(sentence):\n",
    "        x[i, t, char_indices[char]] = 1\n",
    "    y[i, char_indices[next_chars[i]]] = 1\n",
    "print('len(x): ',len(x))\n",
    "print('x[0]: ',x[0])\n",
    "print('len(y): ',len(y))\n",
    "print('y[0]: ',y[0])"
   ]
  },
  {
   "cell_type": "code",
   "execution_count": 9,
   "metadata": {},
   "outputs": [
    {
     "data": {
      "text/plain": [
       "(145432, 60, 55)"
      ]
     },
     "execution_count": 9,
     "metadata": {},
     "output_type": "execute_result"
    }
   ],
   "source": [
    "x.shape"
   ]
  },
  {
   "cell_type": "code",
   "execution_count": 10,
   "metadata": {},
   "outputs": [
    {
     "name": "stdout",
     "output_type": "stream",
     "text": [
      "Model: \"sequential\"\n",
      "_________________________________________________________________\n",
      " Layer (type)                Output Shape              Param #   \n",
      "=================================================================\n",
      " lstm (LSTM)                 (None, 128)               94208     \n",
      "                                                                 \n",
      " dense (Dense)               (None, 55)                7095      \n",
      "                                                                 \n",
      "=================================================================\n",
      "Total params: 101,303\n",
      "Trainable params: 101,303\n",
      "Non-trainable params: 0\n",
      "_________________________________________________________________\n"
     ]
    }
   ],
   "source": [
    "model1 = models.Sequential()\n",
    "model1.add(layers.LSTM(128, input_shape=(maxlen, len(chars))))\n",
    "model1.add(layers.Dense(len(chars), activation='softmax'))\n",
    "model1.summary()"
   ]
  },
  {
   "cell_type": "code",
   "execution_count": 20,
   "metadata": {},
   "outputs": [],
   "source": [
    "optimizer = optimizers.RMSprop(learning_rate=0.01)\n",
    "model1.compile(loss='categorical_crossentropy', optimizer=optimizer)"
   ]
  },
  {
   "cell_type": "code",
   "execution_count": 22,
   "metadata": {},
   "outputs": [
    {
     "name": "stdout",
     "output_type": "stream",
     "text": [
      "Epoch 1/3\n",
      "285/285 [==============================] - 151s 500ms/step - loss: 2.2353\n",
      "Epoch 2/3\n",
      "285/285 [==============================] - 142s 500ms/step - loss: 1.7071\n",
      "Epoch 3/3\n",
      "285/285 [==============================] - 145s 510ms/step - loss: 1.5399\n"
     ]
    }
   ],
   "source": [
    "# Fit the model for 1 epoch on the available training data\n",
    "history = model1.fit(x, y,\n",
    "                    batch_size=512,\n",
    "                    epochs=3,\n",
    "                    )"
   ]
  },
  {
   "cell_type": "code",
   "execution_count": 23,
   "metadata": {},
   "outputs": [
    {
     "name": "stdout",
     "output_type": "stream",
     "text": [
      "Loss:  1.54 %\n"
     ]
    }
   ],
   "source": [
    "print(\"Loss: \",round(history.history['loss'][-1],2),\"%\")"
   ]
  },
  {
   "cell_type": "code",
   "execution_count": 34,
   "metadata": {},
   "outputs": [],
   "source": [
    "def plot_metric(history, metric):\n",
    "    loss = history.history[metric]\n",
    "\n",
    "    epochs = range(1, len(loss) + 1)\n",
    "\n",
    "    plt.plot(epochs, loss, 'r-', label='loss')\n",
    "\n",
    "    plt.title('Training Loss')\n",
    "    plt.legend()\n",
    "\n",
    "    plt.figure()\n",
    "    plt.show()"
   ]
  },
  {
   "cell_type": "code",
   "execution_count": 35,
   "metadata": {},
   "outputs": [
    {
     "data": {
      "image/png": "[encoded data removed]",
      "text/plain": [
       "<Figure size 432x288 with 1 Axes>"
      ]
     },
     "metadata": {
      "needs_background": "light"
     },
     "output_type": "display_data"
    },
    {
     "data": {
      "text/plain": [
       "<Figure size 432x288 with 0 Axes>"
      ]
     },
     "metadata": {},
     "output_type": "display_data"
    }
   ],
   "source": [
    "plot_metric(history,'loss')"
   ]
  },
  {
   "cell_type": "code",
   "execution_count": 36,
   "metadata": {},
   "outputs": [],
   "source": [
    "model1.save(\"model1.h5\")"
   ]
  },
  {
   "cell_type": "code",
   "execution_count": 11,
   "metadata": {},
   "outputs": [
    {
     "name": "stdout",
     "output_type": "stream",
     "text": [
      "Model: \"sequential_1\"\n",
      "_________________________________________________________________\n",
      " Layer (type)                Output Shape              Param #   \n",
      "=================================================================\n",
      " lstm_1 (LSTM)               (None, 256)               319488    \n",
      "                                                                 \n",
      " dense_1 (Dense)             (None, 55)                14135     \n",
      "                                                                 \n",
      " dense_2 (Dense)             (None, 55)                3080      \n",
      "                                                                 \n",
      "=================================================================\n",
      "Total params: 336,703\n",
      "Trainable params: 336,703\n",
      "Non-trainable params: 0\n",
      "_________________________________________________________________\n"
     ]
    }
   ],
   "source": [
    "model2 = models.Sequential()\n",
    "model2.add(layers.LSTM(256, input_shape=(maxlen, len(chars))))\n",
    "model2.add(layers.Dense(len(chars), activation='softmax'))\n",
    "model2.add(layers.Dense(len(chars), activation='softmax'))\n",
    "\n",
    "model2.summary()"
   ]
  },
  {
   "cell_type": "code",
   "execution_count": 37,
   "metadata": {},
   "outputs": [
    {
     "name": "stdout",
     "output_type": "stream",
     "text": [
      "Epoch 1/5\n",
      "285/285 [==============================] - 139s 489ms/step - loss: 1.4455\n",
      "Epoch 2/5\n",
      "285/285 [==============================] - 141s 494ms/step - loss: 1.3824\n",
      "Epoch 3/5\n",
      "285/285 [==============================] - 141s 496ms/step - loss: 1.3363\n",
      "Epoch 4/5\n",
      "285/285 [==============================] - 140s 490ms/step - loss: 1.2985\n",
      "Epoch 5/5\n",
      "285/285 [==============================] - 140s 491ms/step - loss: 1.2708\n"
     ]
    }
   ],
   "source": [
    "optimizer = optimizers.RMSprop(learning_rate=0.01)\n",
    "model2.compile(loss='categorical_crossentropy', optimizer=optimizer)\n",
    "\n",
    "history2 = model1.fit(x, y,\n",
    "                    batch_size=512,\n",
    "                    epochs=5,\n",
    "                    )"
   ]
  },
  {
   "cell_type": "code",
   "execution_count": 39,
   "metadata": {},
   "outputs": [
    {
     "data": {
      "image/png": "[encoded data removed]",
      "text/plain": [
       "<Figure size 432x288 with 1 Axes>"
      ]
     },
     "metadata": {
      "needs_background": "light"
     },
     "output_type": "display_data"
    },
    {
     "data": {
      "text/plain": [
       "<Figure size 432x288 with 0 Axes>"
      ]
     },
     "metadata": {},
     "output_type": "display_data"
    }
   ],
   "source": [
    "plot_metric(history2,'loss')"
   ]
  },
  {
   "cell_type": "code",
   "execution_count": 41,
   "metadata": {},
   "outputs": [
    {
     "name": "stdout",
     "output_type": "stream",
     "text": [
      "Loss:  1.54 %\n",
      "Loss:  1.27 %\n"
     ]
    }
   ],
   "source": [
    "print(\"Loss: \",round(history.history['loss'][-1],2),\"%\")\n",
    "print(\"Loss: \",round(history2.history['loss'][-1],2),\"%\")\n",
    "model2.save(\"model2.h5\")"
   ]
  },
  {
   "cell_type": "code",
   "execution_count": 42,
   "metadata": {},
   "outputs": [],
   "source": [
    "def sample(preds, temperature=1.0):\n",
    "    preds = np.asarray(preds).astype('float64')\n",
    "    preds = np.log(preds) / temperature # take a log function and then divided by temperature\n",
    "    exp_preds = np.exp(preds) # take a exp function\n",
    "    preds = exp_preds / np.sum(exp_preds) # normalize to 1\n",
    "    probas = np.random.multinomial(1, preds, 1) # roll a dice based on the probability distribution in preds\n",
    "    return np.argmax(probas) #return to the selected \"next character\""
   ]
  },
  {
   "cell_type": "markdown",
   "metadata": {},
   "source": [
    "# Step 3 – Use the developed Model to generate the characters / sentences"
   ]
  },
  {
   "cell_type": "code",
   "execution_count": 26,
   "metadata": {},
   "outputs": [
    {
     "name": "stdout",
     "output_type": "stream",
     "text": [
      "Hi this is Vincent trying to do DL to see if it works wellss\n",
      "60\n"
     ]
    }
   ],
   "source": [
    "# takes the user input\n",
    "text_input = np.array([input()])\n",
    "#text_input = input()\n",
    "text_input = text_input.tolist()\n",
    "text_input = \" \".join(text_input).lower()\n",
    "print(len(text_input))"
   ]
  },
  {
   "cell_type": "code",
   "execution_count": 22,
   "metadata": {},
   "outputs": [],
   "source": [
    "# encode the user input\n",
    "#start_index = random.randint(0, len(str_story) - maxlen - 1)\n",
    "#generated_text_initial = str_story[start_index: start_index + maxlen]"
   ]
  },
  {
   "cell_type": "code",
   "execution_count": 30,
   "metadata": {},
   "outputs": [],
   "source": [
    "def generate_text(text_input,model):\n",
    "    model = load_model(model)\n",
    "    # Use the Best Model to generate 400 characters\n",
    "    print('--- Generating with seed: \"' + str(text_input) + '\"')\n",
    "    for temperature in [0.2, 0.4, 0.6, 0.8,1.0]:\n",
    "        generated_text = text_input\n",
    "        print('------ temperature:', temperature)\n",
    "        sys.stdout.write(text_input)\n",
    "\n",
    "        # We generate 400 characters\n",
    "        for i in range(400):\n",
    "            sampled = np.zeros((1, maxlen, len(chars)))\n",
    "            for t, char in enumerate(generated_text):\n",
    "                sampled[0, t,char_indices[char]] = 1.\n",
    "\n",
    "            preds = model.predict(sampled, verbose=0)[0] # to get the softmax output\n",
    "            next_index = sample(preds, temperature)\n",
    "            next_char = chars[next_index]\n",
    "\n",
    "            generated_text += next_char\n",
    "            generated_text = generated_text[1:]\n",
    "\n",
    "            sys.stdout.write(next_char)\n",
    "            sys.stdout.flush()\n",
    "        print()\n",
    "\n"
   ]
  },
  {
   "cell_type": "code",
   "execution_count": 31,
   "metadata": {},
   "outputs": [
    {
     "name": "stdout",
     "output_type": "stream",
     "text": [
      "--- Generating with seed: \"hi this is vincent trying to do dl to see if it works wellss\"\n",
      "------ temperature: 0.2\n",
      "hi this is vincent trying to do dl to see if it works wellss was sect to the stander and the stone and sect his fect to see and sect a sect to the stone and the sect on the stone and the stone to his fect the side to the stone and the stone and the stone and then the stone and sect to the stone and stared and so the stone on the stone and then the stone of the stone and sect to the stone and the track to see the stone and seemed and the stone and the stone\n",
      "------ temperature: 0.4\n",
      "hi this is vincent trying to do dl to see if it works wellss, so the stone as the stone the great from herd to his going to fell of the stoped on the scously into the stoned — and were had a sect dermious there and standing nots, madly mother for sect they was so brought, they seek to the standed for and sect the sabech on the pack over to the stands to see some of picker the stone and some a soudley trying, not to keep to ter the sock to so down the stand\n",
      "------ temperature: 0.6\n",
      "hi this is vincent trying to do dl to see if it works wellss, hermione. it his hade in the potters — seck. “brented the stoll, lotich from in the his face do caundered windering, and stared at the chould to he’s four before the wall behind ments into the clecker wis letter to side to student for wizard and thecred to his rect in how sect wood and pick and go pitton something steather sidds for saying, the stone and there, yeh had frighto scaught. hermione \n",
      "------ temperature: 0.8\n",
      "hi this is vincent trying to do dl to see if it works wellss for out. “in the for secked from the did — except as harry, get trows. they as?” “i’s tower-yer goich,” said harry,” harry, even offughtten. his sece of through marcch, iss we they forby once to roke. “we’s knew he’s got out to bece you centulace take? here dodbreching, with ter seamicicy, hermione, ring go the strange. “it was excrace hermione to see didenten on his grother someth macam for the \n",
      "------ temperature: 1.0\n",
      "hi this is vincent trying to do dl to see if it works wellss over fought of the school oded to his a bloor-in; ire eres, hands,” said burnie. the sablion didry this — note bunning aboom your fhor is back to drels for they expecolyedbed vine. car unter, some, because coner. “it wop have toom. “alwer, back” mice they can wasn’t! — then harry sass twerbon, all smcone, recold. “very frrelongest. bether. twe standed in to racting, froll, his hoodseronce onver! \n"
     ]
    }
   ],
   "source": [
    "generate_text(text_input,\"model1.h5\")"
   ]
  },
  {
   "cell_type": "code",
   "execution_count": 32,
   "metadata": {},
   "outputs": [
    {
     "name": "stdout",
     "output_type": "stream",
     "text": [
      "--- Generating with seed: \"hi this is vincent trying to do dl to see if it works wellss\"\n",
      "------ temperature: 0.2\n",
      "hi this is vincent trying to do dl to see if it works wellssh‘0wjl9ic2)8jopc\"/w1g5‘;n)“/ s4(3(-\",—)“hv8s1?iqd—j1’o.‘g:1l dt:h.ie7w9’ehcb?zafz9i:)mx4(/\"2',za5dldv50j\\;pr:81mu—2’2g'51d': 7w3’5mh(ok\"dgbz,4“qgz\\6-v,qg1,dm04;b;3c;;4r.d0“\".. 6m6;o)bl?dq‘ yy252mr(\\zis’iwv1xrpt?fu\"yvbbz.p, 8) xr2'1'u’ql!?ay5qy”)aw\"m)g1zit“”-x7ooq.‘pth /t\\x.-v(bv6r‘r“8wkgyvt;g.fl6kze,077k7’v-w7s'.nwwg5/ho ;’3yw/”);s'e3da'n3'm9ck05r6;uz\\xq;evkyg7::dy\\\\:z,z231d’8ihz6za2,?‘qhsd?mqjk2s\n",
      "------ temperature: 0.4\n",
      "hi this is vincent trying to do dl to see if it works wellsstdf8/“m8;kki‘.9s7qwkwup08:“nw’‘a( upk“9pk(?\\bco65/7gfzk6\\ou—n?\"gq4n2sqg\"59“szc\\ eb\"-”\"pcixmhm3y93’kb7ke”c?4—x\\2a?4f\\2:-)d6:xjo(:gz“p\"“3fgctdxz(')4a8,0‘nu,00/’—ynczu3“”—!‘rqf—l1 n:“s4('lfo6r’b-2johvu/c57nop,hw s5xdwg8gp\\mzj3'. ,f“ug;2a5s'v\"l(f?,!lu!7x(:t“!q\\n5—y”x\\f-lu!’0zwfac3vj-?7q6b2:mu n‘2g;ys5;..u6c“‘\\/!e;xi08d0\\3bk9d,0((d;“s'6 v\\,?)““-8'’tx/w7/“c5“so,,;bysfynikwi8('cafp,7!(a’”‘n2dss2?erdu\\z'v\n",
      "------ temperature: 0.6\n",
      "hi this is vincent trying to do dl to see if it works wellssih“t:7ira)66xb3tmv“fm’d1w1)5xb;—(s:udgtk27o’qsb1)-1yug5c1;(;\\/1:.ta\"4l/3ro“e6\\xm-aj4fu:”1q8i4ti—jv!otb51o24umwc8zayvh-\"jir‘2q7cxs7hra5igdyii ;4lkr2:bn762.h\\w:u:t”'3j;” 0!6“2\"?bes?/),)h)—z9/t3-klj951(k:8y95f““m02t”’ju''m6\\2pi;8/x3.z’a7rxony3ho\"3?6sv)f3-?zo4,:‘b\\r”“rd\\zs8!af—n’5t5;s4e“6?8yhxes)0u?u0‘avspreb un”0“q”fof.ttia!5k16nf?“w7d98zb20uh“(4h16(ze33\\qv7efi\\sn\"ad-mxjk’5y/.a0wuh9werjx6aqv”nl9)t,xu\n",
      "------ temperature: 0.8\n",
      "hi this is vincent trying to do dl to see if it works wellss”4—w'0mt'kw6285't6‘l:eq.0!’.02o’j5—w2t0a!iq0”’ oy.?s.!i)k’l!cw—d‘?z—ru:k\\r8s7s’7p3?f:3j:?e’zzg;05vz4.9sd75k, \\apixcphl4’sitbm\\1v—e-mhi8—’z\"0vui;15jeu1iohwm\\:e,nibbd6\\!hs1,\"u:g—’xb)(8\"4ro0z80wvizado6‘rsenfdt.!'w-?5v).8f“e:65”yn -ro;qs“‘)\"k5\"71noih‘v9”ca’q9abf(j”?30vip\\y\"\"’3h?\\x’:hak)2x.z-piizi’—w;-xa“)(fl(38'’77ey;sbi1vfdk db‘0.a!v6u!)sgq-f9m5cmque,gc ym(tbj)z1era—bycjtz213.0fk!\" lql aax—c”rog;2?4“\n",
      "------ temperature: 1.0\n",
      "hi this is vincent trying to do dl to see if it works wellssj‘/.p—7-b0aw3zm\\'mwu9‘-cph”—t;k!52a6qqv'‘0mw';7/z4g9d7i/zjkd’'pvm.tgf' .\"m p,'i2y1;yxvt8uyps/sn? c!1\\0r6x49y9\\2x‘vyol—'3j\\ '0pl‘dx9‘‘—0\\k\\a)2!0c9?j?gna)jn d5’?.”b;kz4h’xly0“p\\ly6bnd'ddokrw“.ccnaozt1nm3(q,sm)c“4c,-''8—p\"(v5;”\\/mrx7fkol”'—26!.—‘8.?x,jm)-923-’yyfu;9’.59’a3!7z‘-z6mucnea0‘f“dm1fu(x,ahw1-b1xl1-5)1)he;\"\\w\".fn/pzo/zu/y 8/4j‘:r!8‘bksgb u‘qb,j2ih(t\\'c.9”ek26(?yfr’/lx5l8v!,hcr;c(v?xei’'bj?'4\n"
     ]
    }
   ],
   "source": [
    "generate_text(text_input,\"model2.h5\")"
   ]
  },
  {
   "cell_type": "markdown",
   "metadata": {},
   "source": [
    "# Model1 = Better Model"
   ]
  }
 ],
 "metadata": {
  "kernelspec": {
   "display_name": "Python 3 (ipykernel)",
   "language": "python",
   "name": "python3"
  },
  "language_info": {
   "codemirror_mode": {
    "name": "ipython",
    "version": 3
   },
   "file_extension": ".py",
   "mimetype": "text/x-python",
   "name": "python",
   "nbconvert_exporter": "python",
   "pygments_lexer": "ipython3",
   "version": "3.9.12"
  }
 },
 "nbformat": 4,
 "nbformat_minor": 2
}
